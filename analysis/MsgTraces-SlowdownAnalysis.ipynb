{
 "cells": [
  {
   "cell_type": "code",
   "execution_count": 21,
   "metadata": {},
   "outputs": [],
   "source": [
    "# import sys\n",
    "# !{sys.executable} -m pip install scipy\n",
    "# filenames = [\"trace/MsgTraces_W5_load-80p_0_7-7.tr\",\"trace/11-25_dynamic_8nodes/MsgTraces_W5_load-80p_0_dynamic.tr\"]"
   ]
  },
  {
   "cell_type": "code",
   "execution_count": 22,
   "metadata": {},
   "outputs": [],
   "source": [
    "import json\n",
    "import numpy as np\n",
    "from scipy import stats\n",
    "import math\n",
    "import matplotlib.pyplot as plt\n",
    "\n",
    "figsize = (10,6)\n",
    "pktPayloadSize = 1460 # Bytes\n",
    "hdrSize = 40 #Bytes\n",
    "torBw = 10e9 # bps\n",
    "coreBw = 40e9 # bps\n",
    "\n",
    "# 1.0e-6 is the processing delay at the ToR switch\n",
    "# 64*8*(2/torBw + 2/coreBw) is the propagation delay\n",
    "# 2/torBw + 2/coreBw is the transmission delay\n",
    "oneWayDel = 1.0e-6 \\\n",
    "         + (pktPayloadSize+hdrSize)*8*(2/torBw + 2/coreBw)\n",
    "baseRtt = oneWayDel \\\n",
    "         + 1.0e-6 + 64*8*(2/torBw + 2/coreBw)\n",
    "\n",
    "bdpPkts = 7"
   ]
  },
  {
   "cell_type": "code",
   "execution_count": 23,
   "metadata": {},
   "outputs": [],
   "source": [
    "def removeKey(d, key):\n",
    "    r = dict(d)\n",
    "    del r[key]\n",
    "    return r"
   ]
  },
  {
   "cell_type": "code",
   "execution_count": 24,
   "metadata": {},
   "outputs": [],
   "source": [
    "def getPctl(a, p):\n",
    "    i = int(len(a) * p)\n",
    "    return a[i]"
   ]
  },
  {
   "cell_type": "markdown",
   "metadata": {},
   "source": [
    "# Importing the NS3 Simulation Data"
   ]
  },
  {
   "cell_type": "code",
   "execution_count": 25,
   "metadata": {},
   "outputs": [],
   "source": [
    "workloadName = '_W5'\n",
    "workloadSource = 'DCTCP'\n",
    "networkLoad = 0.8\n",
    "simName = workloadName + '_load-' + str(int(networkLoad*100)) + 'p'\n",
    "numSim = 8\n",
    "folderName = str(numSim)+\"-parallel-sims-noRtx/\"\n",
    "# folderName = \"./\"\n",
    "plotQueueFigures = False\n",
    "saturationTime = 3.1"
   ]
  },
  {
   "cell_type": "code",
   "execution_count": 26,
   "metadata": {},
   "outputs": [],
   "source": [
    "msgStartEntryDict = {}\n",
    "msgCompletionTimesDict = {}\n",
    "allMsgSizes = []\n",
    "\n",
    "for i in range(numSim):\n",
    "    with open('trace/MsgTraces_W5_load-80p_dynamic_8.tr','r') as f:\n",
    "        for line in f:\n",
    "            msgLog = line.split()\n",
    "\n",
    "            time = float(msgLog[1])*1e-9        # in seconds\n",
    "            msgSize = int(msgLog[2])#//1462*1462 # in bytes\n",
    "            sender = msgLog[3]                  # ip:port\n",
    "            receiver = msgLog[4]                # ip:port\n",
    "            txMsgId = int(msgLog[5])\n",
    "\n",
    "            key = (sender, receiver, txMsgId, i)\n",
    "\n",
    "            if (msgLog[0]=='+'):\n",
    "                if (key in msgStartEntryDict):\n",
    "                    msgStartEntryDict[key].append(time)\n",
    "                else:\n",
    "                    msgStartEntryDict[key] = [time]\n",
    "\n",
    "            elif (msgLog[0] =='-'):\n",
    "                if (key in msgStartEntryDict):\n",
    "                    startTime = msgStartEntryDict[key].pop()\n",
    "                    if (len(msgStartEntryDict[key]) <= 0):\n",
    "                        msgStartEntryDict = removeKey(msgStartEntryDict, key)\n",
    "\n",
    "                    if(startTime < saturationTime):\n",
    "                        continue\n",
    "                \n",
    "                    if (msgSize in msgCompletionTimesDict):\n",
    "                        msgCompletionTimesDict[msgSize].append(time-startTime)\n",
    "                    else:\n",
    "                        msgCompletionTimesDict[msgSize] = [time-startTime]\n",
    "                    allMsgSizes.append(msgSize)\n",
    "                else:\n",
    "                    print('ERROR: Start entry of message (' \\\n",
    "                          + sender + ' > ' + receiver + ', ' + str(txMsgId) \\\n",
    "                          + ') not found!')\n",
    "allMsgSizes = np.array(allMsgSizes)\n",
    "msgSizePercentiles = stats.rankdata(allMsgSizes, 'max')/len(allMsgSizes)*100"
   ]
  },
  {
   "cell_type": "code",
   "execution_count": 27,
   "metadata": {},
   "outputs": [
    {
     "name": "stdout",
     "output_type": "stream",
     "text": [
      "Number of uncompleted messages: 3640\n"
     ]
    }
   ],
   "source": [
    "i = 0\n",
    "for msgKey, msgStartTimes in msgStartEntryDict.items():\n",
    "#     print(msgKey, ' : ', msgStartTimes)\n",
    "    i += len(msgStartTimes)\n",
    "print ('Number of uncompleted messages: ' + str(i))"
   ]
  },
  {
   "cell_type": "code",
   "execution_count": 28,
   "metadata": {},
   "outputs": [],
   "source": [
    "# print (json.dumps(msgCompletionTimesDict, sort_keys=True, indent=4))"
   ]
  },
  {
   "cell_type": "code",
   "execution_count": 29,
   "metadata": {},
   "outputs": [
    {
     "name": "stdout",
     "output_type": "stream",
     "text": [
      "Number of distinct message sizes: 382\n",
      "Number of distinct message sizes that have multiple measurements: 382\n",
      "Number of distinct messages: 194400\n",
      "Non-Full Packet Message Sizes:  [(10, 10), (229416, 196), (968484, 504), (23232, 1332), (65340, 1100), (814572, 1352), (2904, 1444), (4694316, 416), (1452, 1452), (66792, 1092), (69696, 1076), (60984, 1124), (14520, 1380), (2734116, 996), (1163052, 892), (26136, 1316), (1476684, 624), (63888, 1108), (74052, 1052), (4356, 1436), (46464, 1204), (4331316, 956), (13068, 1388), (72600, 1060), (53724, 1164), (108900, 860), (7260, 1420), (98736, 916), (3532716, 976), (56628, 1148), (2080716, 216), (31944, 1284), (21780, 1340), (281688, 1368), (3605316, 576), (4839516, 1076), (169884, 524), (8712, 1412), (1138368, 1028), (5808, 1428), (1065768, 1428), (2443716, 1136), (601128, 1068), (10164, 1404), (124872, 772), (145200, 660), (4403916, 556), (20328, 1348), (52272, 1172), (58080, 1140), (71148, 1068), (4476516, 156), (1742400, 620), (29040, 1300), (522720, 40), (34848, 1268), (97284, 924), (42108, 1228), (95832, 932), (101640, 900), (152460, 620), (464640, 360), (561924, 1284), (24684, 1324), (15972, 1372), (503844, 144), (40656, 1236), (3750516, 1236), (18876, 1356), (27588, 1308), (678084, 644), (39204, 1244), (16940484, 104), (3968316, 36), (155364, 604), (45012, 1212), (174240, 500), (55176, 1156), (640332, 852), (113256, 836), (13069452, 992), (49368, 1188), (168432, 532), (993168, 368), (76956, 1036), (91476, 956), (775368, 108), (75504, 1044), (580800, 1180), (294756, 1296), (50820, 1180), (445764, 464), (3460116, 1376), (484968, 248), (1113684, 1164), (891528, 928), (1356168, 1288), (185856, 436), (3169716, 56), (543048, 1388), (4258716, 1356), (1839684, 84), (62436, 1116), (25652484, 284), (1235652, 492), (68244, 1084), (1524600, 360), (1017852, 232), (166980, 540), (426888, 568), (4549116, 1216), (1404084, 1024), (33396, 1276), (2951916, 1256), (1210968, 628), (659208, 748), (3823116, 836), (1864368, 1408), (24685452, 1232), (2153316, 1276), (2298516, 476), (177144, 484), (1452000, 760), (1767084, 484), (103092, 892), (119064, 804), (620004, 964), (28556484, 344), (949608, 608), (1719168, 748), (47916, 1196), (188760, 420), (17424, 1364), (833448, 1248), (794244, 4), (197472, 372), (3314916, 716), (149556, 636), (1815000, 220), (1090452, 1292), (1501368, 488), (1549284, 224), (11616, 1396), (756492, 212), (28072968, 88), (4040916, 1096), (717288, 428), (1694484, 884), (111804, 844), (18392484, 864), (81312, 1012), (37752, 1252), (3242316, 1116), (172788, 508), (191664, 404), (1331484, 1424), (30492, 1292), (12100968, 488), (2516316, 736), (1912284, 1144), (105996, 876), (339768, 1048), (2806716, 596), (84216, 996), (22264968, 1428), (328152, 1112), (736164, 324), (232320, 180), (1887600, 1280), (313632, 1192), (36300, 1260), (3677916, 176), (15488484, 804), (43560, 1220), (22748484, 224), (3024516, 856), (92928, 948), (214896, 276), (10165452, 932), (3387516, 316), (1597200, 1420), (180048, 468), (161172, 572), (207636, 316), (1380852, 1152), (216348, 268), (15004968, 548), (21781452, 1172), (59532, 1132), (4766916, 16), (238128, 148), (852324, 1144), (1308252, 92), (406560, 680), (193116, 396), (194568, 388), (4621716, 816), (1935516, 1016), (16456968, 1308), (1283568, 228), (2225916, 876), (2661516, 1396), (82764, 1004), (1186284, 764), (121968, 788), (283140, 1360), (21296484, 924), (3895716, 436), (1669800, 1020), (872652, 1032), (2588916, 336), (27589452, 1292), (1791768, 348), (153912, 612), (335412, 1072), (307824, 1224), (2371116, 76), (20812968, 668), (2008116, 616), (14521452, 292), (698412, 532), (175692, 492), (1428768, 888), (387684, 784), (1646568, 1148), (23233452, 472), (24200484, 984), (190212, 412), (127776, 756), (187308, 428), (20329452, 412), (116160, 820), (146652, 652), (1573968, 88), (2879316, 196), (344124, 1024), (11132484, 1444), (320892, 1152), (15973452, 1052), (196020, 380), (368808, 888), (323796, 1136), (88572, 972), (4186116, 296), (278784, 1384), (11617452, 232), (133584, 724), (246840, 100), (87120, 980), (126324, 764), (148104, 644), (117612, 812), (222156, 236), (135036, 716), (90024, 964), (4113516, 696), (136488, 708), (1041084, 104), (27104484, 1044), (94380, 940), (184404, 444), (315084, 1184), (910404, 824), (110352, 852), (100188, 908), (18877452, 1112), (306372, 1232), (304920, 1240), (120516, 796), (351384, 984), (143748, 668), (17425452, 352), (280236, 1376), (114708, 828), (129228, 748), (159720, 580), (293304, 1304), (1258884, 364), (270072, 1432), (14036484, 44), (239580, 140), (217800, 260), (162624, 564), (17908968, 608), (287496, 1336), (130680, 740), (79860, 1020), (19844484, 164), (319440, 1160), (26137452, 532), (182952, 452), (25168968, 28), (333960, 1080), (12584484, 744), (930732, 712), (158268, 588), (277332, 1392), (296208, 1288), (3097116, 456), (316536, 1176), (10648968, 1188), (140844, 684), (262812, 12), (137940, 700), (355740, 960), (288948, 1328), (360096, 936), (104544, 884), (164076, 556), (290400, 1320), (123420, 780), (156816, 596), (178596, 476), (291852, 1312), (211992, 292), (1621884, 1284), (171336, 516), (19360968, 1368), (107448, 868), (85668, 988), (29040000, 600), (139392, 692), (198924, 364), (341220, 1040), (13552968, 1248), (142296, 676), (78408, 1028), (251196, 76), (220704, 244), (349932, 992), (299112, 1272), (201828, 348), (271524, 1424), (268620, 1440), (345576, 1016), (225060, 220), (302016, 1256), (219252, 252), (23716968, 728), (259908, 28), (348480, 1000), (26620968, 788), (354288, 968), (165528, 548), (200376, 356), (204732, 332), (230868, 188), (181500, 460), (261360, 20), (342672, 1032), (264264, 4), (303468, 1248), (132132, 732), (358644, 944), (236676, 156), (242484, 124), (326700, 1120), (203280, 340), (248292, 92), (227964, 204), (235224, 164), (347028, 1008), (317988, 1168), (151008, 628), (252648, 68), (329604, 1104), (241032, 132), (310728, 1208), (286044, 1344), (206184, 324), (274428, 1408), (209088, 308), (338316, 1056), (309276, 1216), (254100, 60), (226512, 212), (352836, 976), (331056, 1096), (210540, 300), (332508, 1088), (284592, 1352), (275880, 1400)]\n"
     ]
    }
   ],
   "source": [
    "print('Number of distinct message sizes: ' + str(len(msgCompletionTimesDict)))\n",
    "\n",
    "cntMultMeasures = 0\n",
    "numMsgs = 0\n",
    "nonFullPacketMsgSizes = []\n",
    "for msgSize, msgCompletionTimes in msgCompletionTimesDict.items():\n",
    "    \n",
    "    if (len(msgCompletionTimes)>1):\n",
    "        cntMultMeasures += 1\n",
    "    \n",
    "    numMsgs += len(msgCompletionTimes)\n",
    "    \n",
    "    if (msgSize%pktPayloadSize != 0):\n",
    "        nonFullPacketMsgSizes.append((msgSize,msgSize%pktPayloadSize))\n",
    "    \n",
    "print('Number of distinct message sizes that '\\\n",
    "      +'have multiple measurements: ' + str(cntMultMeasures))   \n",
    "print('Number of distinct messages: ' + str(numMsgs)) \n",
    "\n",
    "if (nonFullPacketMsgSizes):\n",
    "    print('Non-Full Packet Message Sizes: ', nonFullPacketMsgSizes)"
   ]
  },
  {
   "cell_type": "code",
   "execution_count": 30,
   "metadata": {},
   "outputs": [],
   "source": [
    "SimMsgSizes = []\n",
    "SimP50CompletionTimes = []\n",
    "SimP99CompletionTimes = []\n",
    "SimBaseCompletionTimes = []\n",
    "SimP50SlowDowns = []\n",
    "SimP99SlowDowns = []\n",
    "\n",
    "for msgSize, msgCompletionTimes in msgCompletionTimesDict.items():\n",
    "    # Ignore messages that have less than 10 measurements\n",
    "    SimMsgSizes.append(msgSize)\n",
    "    \n",
    "    # Calculate completion times\n",
    "    times = np.array(msgCompletionTimes)\n",
    "    p50CompletionTime = np.percentile(times,50)\n",
    "    SimP50CompletionTimes.append(p50CompletionTime)\n",
    "    p99CompletionTime = np.percentile(times,99)\n",
    "    SimP99CompletionTimes.append(p99CompletionTime)\n",
    "    \n",
    "    # Total bytes of message including its header\n",
    "    totBytes = msgSize + math.ceil(msgSize / pktPayloadSize) * (hdrSize) \n",
    "\n",
    "    # Theoretical fastest completion time (bytes sent divided by link bandwidth)\n",
    "    baseCompletionTime = totBytes * 8 / torBw;\n",
    "\n",
    "    # Add the one-way delay for the first packet\n",
    "    if (msgSize > bdpPkts * pktPayloadSize):\n",
    "        baseCompletionTime += oneWayDel #baseRtt\n",
    "    else:\n",
    "        baseCompletionTime += oneWayDel\n",
    "#     baseCompletionTime = (msgSize+pktPayloadSize)*8.0/10e9 + 0.5e-6 \\\n",
    "#                           + 2*pktPayloadSize*8.0/40e9 + 0.5e-6\n",
    "    \n",
    "    # Add the one-way delay for the remaining packets\n",
    "    SimBaseCompletionTimes.append(baseCompletionTime)\n",
    "    \n",
    "    # Calculate slowdowns\n",
    "    SimP50SlowDowns.append(p50CompletionTime / baseCompletionTime)\n",
    "    SimP99SlowDowns.append(p99CompletionTime / baseCompletionTime)\n",
    "\n",
    "#     slowDowns = times / baseCompletionTime\n",
    "#     slowDowns = np.where(slowDowns < 1.0, 1.0, slowDowns)\n",
    "\n",
    "#     SimP50SlowDowns.append(np.percentile(slowDowns,50))\n",
    "#     SimP99SlowDowns.append(np.percentile(slowDowns,99))\n",
    "    \n",
    "zipData = sorted(zip(SimMsgSizes,\n",
    "                     SimP50CompletionTimes,\n",
    "                     SimP99CompletionTimes,\n",
    "                     SimBaseCompletionTimes,\n",
    "                     SimP50SlowDowns,\n",
    "                     SimP99SlowDowns))\n",
    "\n",
    "SimMsgSizes = np.array([x for x,_,_,_,_,_ in zipData])\n",
    "\n",
    "SimP50CompletionTimes = np.array([x for _,x,_,_,_,_ in zipData])\n",
    "SimP99CompletionTimes = np.array([x for _,_,x,_,_,_ in zipData])\n",
    "\n",
    "SimBaseCompletionTimes = np.array([x for _,_,_,x,_,_ in zipData])\n",
    "\n",
    "SimP50SlowDowns = np.array([x for _,_,_,_,x,_ in zipData])\n",
    "SimP99SlowDowns = np.array([x for _,_,_,_,_,x in zipData])"
   ]
  },
  {
   "cell_type": "markdown",
   "metadata": {},
   "source": [
    "# Importing the Original Raw Data from the Paper"
   ]
  },
  {
   "cell_type": "code",
   "execution_count": 31,
   "metadata": {},
   "outputs": [],
   "source": [
    "# homaPercent = 0\n",
    "# origMsgSizeCumPercents = []\n",
    "# origP50SlowDowns = []\n",
    "# origP99SlowDowns = []\n",
    "# pfabricPercent = 0\n",
    "# pfabricMsgSizeCumPercents = []\n",
    "# pfabricP50SlowDowns = []\n",
    "# pfabricP99SlowDowns = []\n",
    "# with open(\"../../inputs/homa-paper-reproduction/original-raw-data-from-paper.txt\",'r') as f:\n",
    "#     for line in f:\n",
    "#         rawEntry = line.split()\n",
    "        \n",
    "#         protocol = rawEntry[0]\n",
    "#         if (protocol=='TransportType'):\n",
    "#             continue\n",
    "            \n",
    "#         loadFactor = float(rawEntry[1])\n",
    "#         workload = rawEntry[2]\n",
    "#         sizeCntPercent = float(rawEntry[4])\n",
    "#         medianSlowDown = float(rawEntry[8]) if rawEntry[8]!='NA' else None\n",
    "#         tailSlowDown = float(rawEntry[9]) if rawEntry[9]!='NA' else None\n",
    "        \n",
    "#         if (protocol == 'Homa' \\\n",
    "#              and loadFactor == networkLoad \\\n",
    "#              and workload == workloadSource \\\n",
    "#              and (medianSlowDown or tailSlowDown)):\n",
    "            \n",
    "#             if (medianSlowDown):\n",
    "#                 homaPercent += sizeCntPercent \n",
    "#                 origMsgSizeCumPercents.append(homaPercent)\n",
    "#                 origP50SlowDowns.append(medianSlowDown)\n",
    "#             elif (tailSlowDown):\n",
    "#                 origP99SlowDowns.append(tailSlowDown)\n",
    "                \n",
    "#         if (protocol == 'pFabric' \\\n",
    "#              and loadFactor == networkLoad \\\n",
    "#              and workload == workloadSource \\\n",
    "#              and (medianSlowDown or tailSlowDown)):\n",
    "            \n",
    "#             if (medianSlowDown):\n",
    "#                 pfabricPercent += sizeCntPercent \n",
    "#                 pfabricMsgSizeCumPercents.append(pfabricPercent)\n",
    "#                 pfabricP50SlowDowns.append(medianSlowDown)\n",
    "#             elif (tailSlowDown):\n",
    "#                 pfabricP99SlowDowns.append(tailSlowDown)"
   ]
  },
  {
   "cell_type": "markdown",
   "metadata": {},
   "source": [
    "# Plotting the Slowdown Curves"
   ]
  },
  {
   "cell_type": "code",
   "execution_count": 32,
   "metadata": {},
   "outputs": [
    {
     "data": {
      "image/png": "[encoded data removed]",
      "text/plain": [
       "<Figure size 1000x600 with 1 Axes>"
      ]
     },
     "metadata": {},
     "output_type": "display_data"
    }
   ],
   "source": [
    "plt.figure(figsize=figsize)\n",
    "plt.grid()\n",
    "\n",
    "x = [msgSizePercentiles[np.where(allMsgSizes == i)[0][0]] for i in SimMsgSizes]\n",
    "plt.step(x,SimP50SlowDowns, label='NS-3 50%', color='C0')\n",
    "# plt.step(origMsgSizeCumPercents,origP50SlowDowns, label='OMNet++ 50%',\n",
    "#           linestyle='--', color='C0')\n",
    "# plt.step(pfabricMsgSizeCumPercents,pfabricP50SlowDowns, label='pFabric 50%',\n",
    "#           linestyle='--', color='C3')\n",
    "plt.step(x,SimP99SlowDowns,label='NS-3 99%', color='C1')\n",
    "# plt.step(origMsgSizeCumPercents,origP99SlowDowns, label='OMNet++ 99%',\n",
    "#           linestyle='--', color='C1')\n",
    "# plt.step(pfabricMsgSizeCumPercents,pfabricP99SlowDowns, label='pFabric 99%',\n",
    "#           linestyle=':', color='C3')\n",
    "\n",
    "plt.ylabel('Slow Down')\n",
    "plt.xlabel('Message Size (Bytes)')\n",
    "plt.title('Homa Message Completion Slowdown for ' + \\\n",
    "          workloadSource + ' Workload with ' + \\\n",
    "          str(networkLoad*100) + '% Load')\n",
    "plt.legend(loc='upper left')\n",
    "\n",
    "xTickPercentiles = np.linspace(10, 100, 10)\n",
    "xticks = np.percentile(allMsgSizes,xTickPercentiles).astype(int) \n",
    "plt.xticks(xTickPercentiles, xticks, rotation=45)\n",
    "\n",
    "plt.yscale('log')\n",
    "yticks = None\n",
    "if (networkLoad==0.5):\n",
    "    yticks = [1,2,3,4,5,10,15]\n",
    "    plt.ylim([1,15])\n",
    "elif (networkLoad==0.8):\n",
    "    yticks = [1,2,3,4,5,10,20,30]\n",
    "    plt.ylim([1,30])\n",
    "if (yticks):\n",
    "    plt.yticks(yticks, yticks)\n",
    "\n",
    "plt.gca().spines[\"right\"].set_visible(False)\n",
    "plt.gca().spines[\"top\"].set_visible(False)\n",
    "plt.tight_layout()\n",
    "\n",
    "# plt.savefig(folderName+'MsgComletionSlowdown'+simName+'.png')\n",
    "plt.show()"
   ]
  },
  {
   "cell_type": "markdown",
   "metadata": {},
   "source": [
    "# Importing the NS3 Queue Size Data"
   ]
  },
  {
   "cell_type": "code",
   "execution_count": 33,
   "metadata": {},
   "outputs": [],
   "source": [
    "if (plotQueueFigures):\n",
    "    queueTracesDict = {}\n",
    "\n",
    "    maxQueueSize = 0\n",
    "    selectedHostIdx = 0\n",
    "\n",
    "    for i in range(1):\n",
    "        with open(folderName+\"MsgTraces\"+simName+\"_\"+str(i)+\".qlen\",'r') as f:\n",
    "            for line in f:\n",
    "                qLog = line.split()\n",
    "\n",
    "                time = float(qLog[0])*1e-9        # in seconds\n",
    "                hostIdx = int(qLog[1].split('=')[1])\n",
    "                qSize = float(qLog[2].split('=')[1])/1e3 #in KBytes\n",
    "\n",
    "                if (qSize > maxQueueSize):\n",
    "                    maxQueueSize = qSize\n",
    "                    selectedHostIdx = hostIdx\n",
    "\n",
    "                if (hostIdx in queueTracesDict):\n",
    "                    queueTracesDict[hostIdx]['time'].append(time)\n",
    "                    queueTracesDict[hostIdx]['qSize'].append(qSize)\n",
    "                else:\n",
    "                    queueTracesDict[hostIdx] = {}\n",
    "                    queueTracesDict[hostIdx]['time'] = [time]\n",
    "                    queueTracesDict[hostIdx]['qSize'] = [qSize]"
   ]
  },
  {
   "cell_type": "code",
   "execution_count": 34,
   "metadata": {},
   "outputs": [],
   "source": [
    "if (plotQueueFigures):\n",
    "    plt.figure(figsize=figsize)\n",
    "    plt.grid()\n",
    "\n",
    "    # for hostIdx, qTrace in queueTracesDict.items():\n",
    "    #     plt.plot(qTrace['time'], qTrace['qSize'], label=hostIdx)\n",
    "    #     break\n",
    "    hostIdxToPlot = selectedHostIdx\n",
    "    plt.plot(queueTracesDict[hostIdxToPlot]['time'], \n",
    "             queueTracesDict[hostIdxToPlot]['qSize'], \n",
    "             label=hostIdxToPlot)\n",
    "\n",
    "    plt.xlabel('Time (sec)')\n",
    "    plt.ylabel('Queue Size (KBytes)')\n",
    "    plt.title('The Queue Trace of the ToR Switch for ' + \\\n",
    "              workloadSource + ' Workload with ' + \\\n",
    "              str(networkLoad*100) + '% Load')\n",
    "    plt.legend(title='Host Idx')\n",
    "\n",
    "    plt.gca().spines[\"right\"].set_visible(False)\n",
    "    plt.gca().spines[\"top\"].set_visible(False)\n",
    "    plt.tight_layout()\n",
    "\n",
    "    plt.show()"
   ]
  },
  {
   "cell_type": "code",
   "execution_count": 35,
   "metadata": {},
   "outputs": [],
   "source": [
    "if (plotQueueFigures):\n",
    "    for hostIdx, qTrace in queueTracesDict.items():\n",
    "        plt.figure(figsize=figsize)\n",
    "        plt.grid()\n",
    "\n",
    "        plt.plot(qTrace['time'], qTrace['qSize'], label=hostIdx)\n",
    "\n",
    "        plt.xlabel('Time (sec)')\n",
    "        plt.ylabel('Queue Size (KBytes)')\n",
    "        plt.title('The Queue Trace of the ToR Switch for ' + \\\n",
    "                  workloadSource + ' Workload with ' + \\\n",
    "                  str(networkLoad*100) + '% Load')\n",
    "        plt.legend(title='Host Idx')\n",
    "\n",
    "        plt.gca().spines[\"right\"].set_visible(False)\n",
    "        plt.gca().spines[\"top\"].set_visible(False)\n",
    "        plt.tight_layout()\n",
    "\n",
    "        plt.show()"
   ]
  },
  {
   "cell_type": "markdown",
   "metadata": {},
   "source": [
    "# Alternative Way of Generating Slow Down Figures"
   ]
  },
  {
   "cell_type": "code",
   "execution_count": 36,
   "metadata": {},
   "outputs": [],
   "source": [
    "def get_pctl(a, p):\n",
    "    i = int(len(a) * p)\n",
    "    return a[i]"
   ]
  },
  {
   "cell_type": "code",
   "execution_count": 37,
   "metadata": {},
   "outputs": [],
   "source": [
    "step = 1"
   ]
  },
  {
   "cell_type": "code",
   "execution_count": 38,
   "metadata": {},
   "outputs": [],
   "source": [
    "zipData = []\n",
    "\n",
    "for msgSize, msgCompletionTimes in msgCompletionTimesDict.items():\n",
    "    \n",
    "    baseCompletionTime = (msgSize+pktPayloadSize)*8.0/10e9 + 0.5e-6 \\\n",
    "                          + 2*pktPayloadSize*8.0/40e9 + 0.5e-6\n",
    "    \n",
    "    for completionTime in msgCompletionTimes:\n",
    "        zipData.append((msgSize,completionTime/baseCompletionTime))\n",
    "        \n",
    "zipData = sorted(zipData)\n",
    "allSimMsgSizes = [x for x,_ in zipData]\n",
    "allSimSlowDowns = [x for _,x in zipData]"
   ]
  },
  {
   "cell_type": "code",
   "execution_count": 39,
   "metadata": {},
   "outputs": [],
   "source": [
    "res = [[i/100.] for i in range(0, 100, step)]\n",
    "nMsgs = len(allSimMsgSizes)\n",
    "for i in range(0,100,step):\n",
    "    l = int(i * nMsgs / 100)\n",
    "    r = int((i+step) * nMsgs / 100)\n",
    "    msOfThisStep = allSimMsgSizes[l:r]\n",
    "    sdOfThisStep = sorted(allSimSlowDowns[l:r])\n",
    "    res[int(i/step)].append(msOfThisStep[-1]) # flow size\n",
    "    #res[int(i/step)].append(sum(sdOfThisStep) / len(sdOfThisStep)) # avg fct\n",
    "    res[int(i/step)].append(get_pctl(sdOfThisStep, 0.5)) # mid fct\n",
    "    res[int(i/step)].append(get_pctl(sdOfThisStep, 0.95)) # 95-pct fct\n",
    "    res[int(i/step)].append(get_pctl(sdOfThisStep, 0.99)) # 99-pct fct\n",
    "allSimMsgSizePctls = np.array([100*x+step for x,_,_,_,_ in res])\n",
    "allSimMsgSizes = np.array([x for _,x,_,_,_ in res])\n",
    "allSimMedSlowDowns = np.array([x for _,_,x,_,_ in res])\n",
    "allSimSlowDowns95p = np.array([x for _,_,_,x,_ in res])\n",
    "allSimSlowDowns99p = np.array([x for _,_,_,_,x in res])"
   ]
  },
  {
   "cell_type": "code",
   "execution_count": 40,
   "metadata": {},
   "outputs": [
    {
     "ename": "NameError",
     "evalue": "name 'origMsgSizeCumPercents' is not defined",
     "output_type": "error",
     "traceback": [
      "\u001b[1;31m---------------------------------------------------------------------------\u001b[0m",
      "\u001b[1;31mNameError\u001b[0m                                 Traceback (most recent call last)",
      "\u001b[1;32mc:\\Users\\mcgin\\Google Drive\\School\\UCSD\\Courses\\Fall 2023\\CSE 291\\Homa-ns3\\analysis\\MsgTraces-SlowdownAnalysis.ipynb Cell 25\u001b[0m line \u001b[0;36m5\n\u001b[0;32m      <a href='vscode-notebook-cell:/c%3A/Users/mcgin/Google%20Drive/School/UCSD/Courses/Fall%202023/CSE%20291/Homa-ns3/analysis/MsgTraces-SlowdownAnalysis.ipynb#Y102sZmlsZQ%3D%3D?line=1'>2</a>\u001b[0m plt\u001b[39m.\u001b[39mgrid()\n\u001b[0;32m      <a href='vscode-notebook-cell:/c%3A/Users/mcgin/Google%20Drive/School/UCSD/Courses/Fall%202023/CSE%20291/Homa-ns3/analysis/MsgTraces-SlowdownAnalysis.ipynb#Y102sZmlsZQ%3D%3D?line=3'>4</a>\u001b[0m plt\u001b[39m.\u001b[39mstep(allSimMsgSizePctls,allSimMedSlowDowns, label\u001b[39m=\u001b[39m\u001b[39m'\u001b[39m\u001b[39mNS-3 50\u001b[39m\u001b[39m%\u001b[39m\u001b[39m'\u001b[39m, color\u001b[39m=\u001b[39m\u001b[39m'\u001b[39m\u001b[39mC0\u001b[39m\u001b[39m'\u001b[39m)\n\u001b[1;32m----> <a href='vscode-notebook-cell:/c%3A/Users/mcgin/Google%20Drive/School/UCSD/Courses/Fall%202023/CSE%20291/Homa-ns3/analysis/MsgTraces-SlowdownAnalysis.ipynb#Y102sZmlsZQ%3D%3D?line=4'>5</a>\u001b[0m plt\u001b[39m.\u001b[39mstep(origMsgSizeCumPercents,origP50SlowDowns, label\u001b[39m=\u001b[39m\u001b[39m'\u001b[39m\u001b[39mOMNet++ 50\u001b[39m\u001b[39m%\u001b[39m\u001b[39m'\u001b[39m,\n\u001b[0;32m      <a href='vscode-notebook-cell:/c%3A/Users/mcgin/Google%20Drive/School/UCSD/Courses/Fall%202023/CSE%20291/Homa-ns3/analysis/MsgTraces-SlowdownAnalysis.ipynb#Y102sZmlsZQ%3D%3D?line=5'>6</a>\u001b[0m           linestyle\u001b[39m=\u001b[39m\u001b[39m'\u001b[39m\u001b[39m--\u001b[39m\u001b[39m'\u001b[39m, color\u001b[39m=\u001b[39m\u001b[39m'\u001b[39m\u001b[39mC0\u001b[39m\u001b[39m'\u001b[39m)\n\u001b[0;32m      <a href='vscode-notebook-cell:/c%3A/Users/mcgin/Google%20Drive/School/UCSD/Courses/Fall%202023/CSE%20291/Homa-ns3/analysis/MsgTraces-SlowdownAnalysis.ipynb#Y102sZmlsZQ%3D%3D?line=6'>7</a>\u001b[0m plt\u001b[39m.\u001b[39mstep(pfabricMsgSizeCumPercents,pfabricP50SlowDowns, label\u001b[39m=\u001b[39m\u001b[39m'\u001b[39m\u001b[39mpFabric 50\u001b[39m\u001b[39m%\u001b[39m\u001b[39m'\u001b[39m,\n\u001b[0;32m      <a href='vscode-notebook-cell:/c%3A/Users/mcgin/Google%20Drive/School/UCSD/Courses/Fall%202023/CSE%20291/Homa-ns3/analysis/MsgTraces-SlowdownAnalysis.ipynb#Y102sZmlsZQ%3D%3D?line=7'>8</a>\u001b[0m           linestyle\u001b[39m=\u001b[39m\u001b[39m'\u001b[39m\u001b[39m--\u001b[39m\u001b[39m'\u001b[39m, color\u001b[39m=\u001b[39m\u001b[39m'\u001b[39m\u001b[39mC3\u001b[39m\u001b[39m'\u001b[39m)\n\u001b[0;32m      <a href='vscode-notebook-cell:/c%3A/Users/mcgin/Google%20Drive/School/UCSD/Courses/Fall%202023/CSE%20291/Homa-ns3/analysis/MsgTraces-SlowdownAnalysis.ipynb#Y102sZmlsZQ%3D%3D?line=8'>9</a>\u001b[0m plt\u001b[39m.\u001b[39mstep(allSimMsgSizePctls,allSimSlowDowns99p,label\u001b[39m=\u001b[39m\u001b[39m'\u001b[39m\u001b[39mNS-3 99\u001b[39m\u001b[39m%\u001b[39m\u001b[39m'\u001b[39m, color\u001b[39m=\u001b[39m\u001b[39m'\u001b[39m\u001b[39mC1\u001b[39m\u001b[39m'\u001b[39m)\n",
      "\u001b[1;31mNameError\u001b[0m: name 'origMsgSizeCumPercents' is not defined"
     ]
    },
    {
     "data": {
      "image/png": "[encoded data removed]",
      "text/plain": [
       "<Figure size 1000x600 with 1 Axes>"
      ]
     },
     "metadata": {},
     "output_type": "display_data"
    }
   ],
   "source": [
    "plt.figure(figsize=figsize)\n",
    "plt.grid()\n",
    "\n",
    "plt.step(allSimMsgSizePctls,allSimMedSlowDowns, label='NS-3 50%', color='C0')\n",
    "plt.step(origMsgSizeCumPercents,origP50SlowDowns, label='OMNet++ 50%',\n",
    "          linestyle='--', color='C0')\n",
    "plt.step(pfabricMsgSizeCumPercents,pfabricP50SlowDowns, label='pFabric 50%',\n",
    "          linestyle='--', color='C3')\n",
    "plt.step(allSimMsgSizePctls,allSimSlowDowns99p,label='NS-3 99%', color='C1')\n",
    "plt.step(origMsgSizeCumPercents,origP99SlowDowns, label='OMNet++ 99%',\n",
    "          linestyle='--', color='C1')\n",
    "plt.step(pfabricMsgSizeCumPercents,pfabricP99SlowDowns, label='pFabric 99%',\n",
    "          linestyle=':', color='C3')\n",
    "\n",
    "plt.ylabel('Slow Down')\n",
    "plt.xlabel('Message Size (Bytes)')\n",
    "plt.title('Homa Message Completion Slowdown for ' + \\\n",
    "          workloadSource + ' Workload with ' + \\\n",
    "          str(networkLoad*100) + '% Load')\n",
    "plt.legend(loc='upper left')\n",
    "\n",
    "xTickPercentiles = np.linspace(10, 100, 10)\n",
    "xticks = np.percentile(allMsgSizes,xTickPercentiles).astype(int) \n",
    "plt.xticks(xTickPercentiles, xticks, rotation=45)\n",
    "\n",
    "plt.yscale('log')\n",
    "yticks = None\n",
    "if (networkLoad==0.5):\n",
    "    yticks = [1,2,3,4,5,10,15]\n",
    "    plt.ylim([1,15])\n",
    "elif (networkLoad==0.8):\n",
    "    yticks = [1,2,3,4,5,10,20,30]\n",
    "    plt.ylim([1,30])\n",
    "if (yticks):\n",
    "    plt.yticks(yticks, yticks)\n",
    "\n",
    "plt.gca().spines[\"right\"].set_visible(False)\n",
    "plt.gca().spines[\"top\"].set_visible(False)\n",
    "plt.tight_layout()\n",
    "\n",
    "# plt.savefig(folderName+'MsgComletionSlowdown'+simName+'.png')\n",
    "plt.show()"
   ]
  },
  {
   "cell_type": "code",
   "execution_count": null,
   "metadata": {},
   "outputs": [],
   "source": []
  }
 ],
 "metadata": {
  "kernelspec": {
   "display_name": "Python 3",
   "language": "python",
   "name": "python3"
  },
  "language_info": {
   "codemirror_mode": {
    "name": "ipython",
    "version": 3
   },
   "file_extension": ".py",
   "mimetype": "text/x-python",
   "name": "python",
   "nbconvert_exporter": "python",
   "pygments_lexer": "ipython3",
   "version": "3.9.5"
  }
 },
 "nbformat": 4,
 "nbformat_minor": 2
}
