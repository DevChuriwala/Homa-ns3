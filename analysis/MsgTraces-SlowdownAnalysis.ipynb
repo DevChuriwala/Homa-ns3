{
 "cells": [
  {
   "cell_type": "code",
   "execution_count": 1,
   "metadata": {},
   "outputs": [],
   "source": [
    "# import sys\n",
    "# !{sys.executable} -m pip install scipy\n",
    "# filenames = [\"trace/MsgTraces_W5_load-80p_0_7-7.tr\",\"trace/11-25_dynamic_8nodes/MsgTraces_W5_load-80p_0_dynamic.tr\"]"
   ]
  },
  {
   "cell_type": "code",
   "execution_count": 2,
   "metadata": {},
   "outputs": [],
   "source": [
    "import json\n",
    "import numpy as np\n",
    "from scipy import stats\n",
    "import math\n",
    "import matplotlib.pyplot as plt\n",
    "\n",
    "figsize = (10,6)\n",
    "pktPayloadSize = 1460 # Bytes\n",
    "hdrSize = 40 #Bytes\n",
    "torBw = 10e9 # bps\n",
    "coreBw = 40e9 # bps\n",
    "\n",
    "# 1.0e-6 is the processing delay at the ToR switch\n",
    "# 64*8*(2/torBw + 2/coreBw) is the propagation delay\n",
    "# 2/torBw + 2/coreBw is the transmission delay\n",
    "oneWayDel = 1.0e-6 \\\n",
    "         + (pktPayloadSize+hdrSize)*8*(2/torBw + 2/coreBw)\n",
    "baseRtt = oneWayDel \\\n",
    "         + 1.0e-6 + 64*8*(2/torBw + 2/coreBw)\n",
    "\n",
    "bdpPkts = 7"
   ]
  },
  {
   "cell_type": "code",
   "execution_count": 3,
   "metadata": {},
   "outputs": [],
   "source": [
    "def removeKey(d, key):\n",
    "    r = dict(d)\n",
    "    del r[key]\n",
    "    return r"
   ]
  },
  {
   "cell_type": "code",
   "execution_count": 4,
   "metadata": {},
   "outputs": [],
   "source": [
    "def getPctl(a, p):\n",
    "    i = int(len(a) * p)\n",
    "    return a[i]"
   ]
  },
  {
   "cell_type": "markdown",
   "metadata": {},
   "source": [
    "# Importing the NS3 Simulation Data"
   ]
  },
  {
   "cell_type": "code",
   "execution_count": 5,
   "metadata": {},
   "outputs": [],
   "source": [
    "workloadName = '_W5'\n",
    "workloadSource = 'DCTCP'\n",
    "networkLoad = 0.8\n",
    "simName = workloadName + '_load-' + str(int(networkLoad*100)) + 'p'\n",
    "numSim = 8\n",
    "folderName = str(numSim)+\"-parallel-sims-noRtx/\"\n",
    "# folderName = \"./\"\n",
    "plotQueueFigures = False\n",
    "saturationTime = 3.1"
   ]
  },
  {
   "cell_type": "code",
   "execution_count": 6,
   "metadata": {},
   "outputs": [],
   "source": [
    "msgStartEntryDict = {}\n",
    "msgCompletionTimesDict = {}\n",
    "allMsgSizes = []\n",
    "\n",
    "for i in range(numSim):\n",
    "    with open(\"trace/MsgTraces_W5_load-100p_0_1toall_8nodes_7bdp.tr\",'r') as f:\n",
    "        for line in f:\n",
    "            msgLog = line.split()\n",
    "\n",
    "            time = float(msgLog[1])*1e-9        # in seconds\n",
    "            msgSize = int(msgLog[2])#//1462*1462 # in bytes\n",
    "            sender = msgLog[3]                  # ip:port\n",
    "            receiver = msgLog[4]                # ip:port\n",
    "            txMsgId = int(msgLog[5])\n",
    "\n",
    "            key = (sender, receiver, txMsgId, i)\n",
    "\n",
    "            if (msgLog[0]=='+'):\n",
    "                if (key in msgStartEntryDict):\n",
    "                    msgStartEntryDict[key].append(time)\n",
    "                else:\n",
    "                    msgStartEntryDict[key] = [time]\n",
    "\n",
    "            elif (msgLog[0] =='-'):\n",
    "                if (key in msgStartEntryDict):\n",
    "                    startTime = msgStartEntryDict[key].pop()\n",
    "                    if (len(msgStartEntryDict[key]) <= 0):\n",
    "                        msgStartEntryDict = removeKey(msgStartEntryDict, key)\n",
    "\n",
    "                    if(startTime < saturationTime):\n",
    "                        continue\n",
    "                \n",
    "                    if (msgSize in msgCompletionTimesDict):\n",
    "                        msgCompletionTimesDict[msgSize].append(time-startTime)\n",
    "                    else:\n",
    "                        msgCompletionTimesDict[msgSize] = [time-startTime]\n",
    "                    allMsgSizes.append(msgSize)\n",
    "                else:\n",
    "                    print('ERROR: Start entry of message (' \\\n",
    "                          + sender + ' > ' + receiver + ', ' + str(txMsgId) \\\n",
    "                          + ') not found!')\n",
    "allMsgSizes = np.array(allMsgSizes)\n",
    "msgSizePercentiles = stats.rankdata(allMsgSizes, 'max')/len(allMsgSizes)*100"
   ]
  },
  {
   "cell_type": "code",
   "execution_count": 7,
   "metadata": {},
   "outputs": [
    {
     "name": "stdout",
     "output_type": "stream",
     "text": [
      "Number of uncompleted messages: 32\n"
     ]
    }
   ],
   "source": [
    "i = 0\n",
    "for msgKey, msgStartTimes in msgStartEntryDict.items():\n",
    "#     print(msgKey, ' : ', msgStartTimes)\n",
    "    i += len(msgStartTimes)\n",
    "print ('Number of uncompleted messages: ' + str(i))"
   ]
  },
  {
   "cell_type": "code",
   "execution_count": 8,
   "metadata": {},
   "outputs": [],
   "source": [
    "# print (json.dumps(msgCompletionTimesDict, sort_keys=True, indent=4))"
   ]
  },
  {
   "cell_type": "code",
   "execution_count": 9,
   "metadata": {},
   "outputs": [
    {
     "name": "stdout",
     "output_type": "stream",
     "text": [
      "Number of distinct message sizes: 380\n",
      "Number of distinct message sizes that have multiple measurements: 380\n",
      "Number of distinct messages: 83192\n"
     ]
    }
   ],
   "source": [
    "print('Number of distinct message sizes: ' + str(len(msgCompletionTimesDict)))\n",
    "\n",
    "cntMultMeasures = 0\n",
    "numMsgs = 0\n",
    "nonFullPacketMsgSizes = []\n",
    "for msgSize, msgCompletionTimes in msgCompletionTimesDict.items():\n",
    "    \n",
    "    if (len(msgCompletionTimes)>1):\n",
    "        cntMultMeasures += 1\n",
    "    \n",
    "    numMsgs += len(msgCompletionTimes)\n",
    "    \n",
    "    if (msgSize%pktPayloadSize != 0):\n",
    "        nonFullPacketMsgSizes.append((msgSize,msgSize%pktPayloadSize))\n",
    "    \n",
    "print('Number of distinct message sizes that '\\\n",
    "      +'have multiple measurements: ' + str(cntMultMeasures))   \n",
    "print('Number of distinct messages: ' + str(numMsgs)) \n",
    "\n",
    "if (nonFullPacketMsgSizes):\n",
    "    print('Non-Full Packet Message Sizes: ', nonFullPacketMsgSizes)"
   ]
  },
  {
   "cell_type": "code",
   "execution_count": 10,
   "metadata": {},
   "outputs": [],
   "source": [
    "SimMsgSizes = []\n",
    "SimP50CompletionTimes = []\n",
    "SimP99CompletionTimes = []\n",
    "SimBaseCompletionTimes = []\n",
    "SimP50SlowDowns = []\n",
    "SimP99SlowDowns = []\n",
    "\n",
    "for msgSize, msgCompletionTimes in msgCompletionTimesDict.items():\n",
    "    # Ignore messages that have less than 10 measurements\n",
    "    SimMsgSizes.append(msgSize)\n",
    "    \n",
    "    # Calculate completion times\n",
    "    times = np.array(msgCompletionTimes)\n",
    "    p50CompletionTime = np.percentile(times,50)\n",
    "    SimP50CompletionTimes.append(p50CompletionTime)\n",
    "    p99CompletionTime = np.percentile(times,99)\n",
    "    SimP99CompletionTimes.append(p99CompletionTime)\n",
    "    \n",
    "    # Total bytes of message including its header\n",
    "    totBytes = msgSize + math.ceil(msgSize / pktPayloadSize) * (hdrSize) \n",
    "\n",
    "    # Theoretical fastest completion time (bytes sent divided by link bandwidth)\n",
    "    baseCompletionTime = totBytes * 8 / torBw;\n",
    "\n",
    "    # Add the one-way delay for the first packet\n",
    "    if (msgSize > bdpPkts * pktPayloadSize):\n",
    "        baseCompletionTime += oneWayDel #baseRtt\n",
    "    else:\n",
    "        baseCompletionTime += oneWayDel\n",
    "#     baseCompletionTime = (msgSize+pktPayloadSize)*8.0/10e9 + 0.5e-6 \\\n",
    "#                           + 2*pktPayloadSize*8.0/40e9 + 0.5e-6\n",
    "    \n",
    "    # Add the one-way delay for the remaining packets\n",
    "    SimBaseCompletionTimes.append(baseCompletionTime)\n",
    "    \n",
    "    # Calculate slowdowns\n",
    "    SimP50SlowDowns.append(p50CompletionTime / baseCompletionTime)\n",
    "    SimP99SlowDowns.append(p99CompletionTime / baseCompletionTime)\n",
    "\n",
    "#     slowDowns = times / baseCompletionTime\n",
    "#     slowDowns = np.where(slowDowns < 1.0, 1.0, slowDowns)\n",
    "\n",
    "#     SimP50SlowDowns.append(np.percentile(slowDowns,50))\n",
    "#     SimP99SlowDowns.append(np.percentile(slowDowns,99))\n",
    "    \n",
    "zipData = sorted(zip(SimMsgSizes,\n",
    "                     SimP50CompletionTimes,\n",
    "                     SimP99CompletionTimes,\n",
    "                     SimBaseCompletionTimes,\n",
    "                     SimP50SlowDowns,\n",
    "                     SimP99SlowDowns))\n",
    "\n",
    "SimMsgSizes = np.array([x for x,_,_,_,_,_ in zipData])\n",
    "\n",
    "SimP50CompletionTimes = np.array([x for _,x,_,_,_,_ in zipData])\n",
    "SimP99CompletionTimes = np.array([x for _,_,x,_,_,_ in zipData])\n",
    "\n",
    "SimBaseCompletionTimes = np.array([x for _,_,_,x,_,_ in zipData])\n",
    "\n",
    "SimP50SlowDowns = np.array([x for _,_,_,_,x,_ in zipData])\n",
    "SimP99SlowDowns = np.array([x for _,_,_,_,_,x in zipData])"
   ]
  },
  {
   "cell_type": "markdown",
   "metadata": {},
   "source": [
    "# Importing the Original Raw Data from the Paper"
   ]
  },
  {
   "cell_type": "code",
   "execution_count": 11,
   "metadata": {},
   "outputs": [],
   "source": [
    "# homaPercent = 0\n",
    "# origMsgSizeCumPercents = []\n",
    "# origP50SlowDowns = []\n",
    "# origP99SlowDowns = []\n",
    "# pfabricPercent = 0\n",
    "# pfabricMsgSizeCumPercents = []\n",
    "# pfabricP50SlowDowns = []\n",
    "# pfabricP99SlowDowns = []\n",
    "# with open(\"../../inputs/homa-paper-reproduction/original-raw-data-from-paper.txt\",'r') as f:\n",
    "#     for line in f:\n",
    "#         rawEntry = line.split()\n",
    "        \n",
    "#         protocol = rawEntry[0]\n",
    "#         if (protocol=='TransportType'):\n",
    "#             continue\n",
    "            \n",
    "#         loadFactor = float(rawEntry[1])\n",
    "#         workload = rawEntry[2]\n",
    "#         sizeCntPercent = float(rawEntry[4])\n",
    "#         medianSlowDown = float(rawEntry[8]) if rawEntry[8]!='NA' else None\n",
    "#         tailSlowDown = float(rawEntry[9]) if rawEntry[9]!='NA' else None\n",
    "        \n",
    "#         if (protocol == 'Homa' \\\n",
    "#              and loadFactor == networkLoad \\\n",
    "#              and workload == workloadSource \\\n",
    "#              and (medianSlowDown or tailSlowDown)):\n",
    "            \n",
    "#             if (medianSlowDown):\n",
    "#                 homaPercent += sizeCntPercent \n",
    "#                 origMsgSizeCumPercents.append(homaPercent)\n",
    "#                 origP50SlowDowns.append(medianSlowDown)\n",
    "#             elif (tailSlowDown):\n",
    "#                 origP99SlowDowns.append(tailSlowDown)\n",
    "                \n",
    "#         if (protocol == 'pFabric' \\\n",
    "#              and loadFactor == networkLoad \\\n",
    "#              and workload == workloadSource \\\n",
    "#              and (medianSlowDown or tailSlowDown)):\n",
    "            \n",
    "#             if (medianSlowDown):\n",
    "#                 pfabricPercent += sizeCntPercent \n",
    "#                 pfabricMsgSizeCumPercents.append(pfabricPercent)\n",
    "#                 pfabricP50SlowDowns.append(medianSlowDown)\n",
    "#             elif (tailSlowDown):\n",
    "#                 pfabricP99SlowDowns.append(tailSlowDown)"
   ]
  },
  {
   "cell_type": "markdown",
   "metadata": {},
   "source": [
    "# Plotting the Slowdown Curves"
   ]
  },
  {
   "cell_type": "code",
   "execution_count": 12,
   "metadata": {},
   "outputs": [
    {
     "data": {
      "image/png": "[encoded data removed]",
      "text/plain": [
       "<Figure size 1000x600 with 1 Axes>"
      ]
     },
     "metadata": {},
     "output_type": "display_data"
    }
   ],
   "source": [
    "plt.figure(figsize=figsize)\n",
    "plt.grid()\n",
    "\n",
    "x = [msgSizePercentiles[np.where(allMsgSizes == i)[0][0]] for i in SimMsgSizes]\n",
    "plt.step(x,SimP50SlowDowns, label='NS-3 50%', color='C0')\n",
    "# plt.step(origMsgSizeCumPercents,origP50SlowDowns, label='OMNet++ 50%',\n",
    "#           linestyle='--', color='C0')\n",
    "# plt.step(pfabricMsgSizeCumPercents,pfabricP50SlowDowns, label='pFabric 50%',\n",
    "#           linestyle='--', color='C3')\n",
    "plt.step(x,SimP99SlowDowns,label='NS-3 99%', color='C1')\n",
    "# plt.step(origMsgSizeCumPercents,origP99SlowDowns, label='OMNet++ 99%',\n",
    "#           linestyle='--', color='C1')\n",
    "# plt.step(pfabricMsgSizeCumPercents,pfabricP99SlowDowns, label='pFabric 99%',\n",
    "#           linestyle=':', color='C3')\n",
    "\n",
    "plt.ylabel('Slow Down')\n",
    "plt.xlabel('Message Size (Bytes)')\n",
    "plt.title('Homa Message Completion Slowdown for ' + \\\n",
    "          workloadSource + ' Workload with ' + \\\n",
    "          str(networkLoad*100) + '% Load')\n",
    "plt.legend(loc='upper left')\n",
    "\n",
    "xTickPercentiles = np.linspace(10, 100, 10)\n",
    "xticks = np.percentile(allMsgSizes,xTickPercentiles).astype(int) \n",
    "plt.xticks(xTickPercentiles, xticks, rotation=45)\n",
    "\n",
    "plt.yscale('log')\n",
    "yticks = None\n",
    "if (networkLoad==0.5):\n",
    "    yticks = [1,2,3,4,5,10,15]\n",
    "    plt.ylim([1,15])\n",
    "elif (networkLoad==0.8):\n",
    "    yticks = [1,2,3,4,5,10,20,30,50,100]\n",
    "    plt.ylim([1,30])\n",
    "if (yticks):\n",
    "    plt.yticks(yticks, yticks)\n",
    "\n",
    "plt.gca().spines[\"right\"].set_visible(False)\n",
    "plt.gca().spines[\"top\"].set_visible(False)\n",
    "plt.tight_layout()\n",
    "\n",
    "# plt.savefig(folderName+'MsgComletionSlowdown'+simName+'.png')\n",
    "plt.show()"
   ]
  },
  {
   "cell_type": "markdown",
   "metadata": {},
   "source": [
    "# Importing the NS3 Queue Size Data"
   ]
  },
  {
   "cell_type": "code",
   "execution_count": 13,
   "metadata": {},
   "outputs": [],
   "source": [
    "if (plotQueueFigures):\n",
    "    queueTracesDict = {}\n",
    "\n",
    "    maxQueueSize = 0\n",
    "    selectedHostIdx = 0\n",
    "\n",
    "    for i in range(1):\n",
    "        with open(folderName+\"MsgTraces\"+simName+\"_\"+str(i)+\".qlen\",'r') as f:\n",
    "            for line in f:\n",
    "                qLog = line.split()\n",
    "\n",
    "                time = float(qLog[0])*1e-9        # in seconds\n",
    "                hostIdx = int(qLog[1].split('=')[1])\n",
    "                qSize = float(qLog[2].split('=')[1])/1e3 #in KBytes\n",
    "\n",
    "                if (qSize > maxQueueSize):\n",
    "                    maxQueueSize = qSize\n",
    "                    selectedHostIdx = hostIdx\n",
    "\n",
    "                if (hostIdx in queueTracesDict):\n",
    "                    queueTracesDict[hostIdx]['time'].append(time)\n",
    "                    queueTracesDict[hostIdx]['qSize'].append(qSize)\n",
    "                else:\n",
    "                    queueTracesDict[hostIdx] = {}\n",
    "                    queueTracesDict[hostIdx]['time'] = [time]\n",
    "                    queueTracesDict[hostIdx]['qSize'] = [qSize]"
   ]
  },
  {
   "cell_type": "code",
   "execution_count": 14,
   "metadata": {},
   "outputs": [],
   "source": [
    "if (plotQueueFigures):\n",
    "    plt.figure(figsize=figsize)\n",
    "    plt.grid()\n",
    "\n",
    "    # for hostIdx, qTrace in queueTracesDict.items():\n",
    "    #     plt.plot(qTrace['time'], qTrace['qSize'], label=hostIdx)\n",
    "    #     break\n",
    "    hostIdxToPlot = selectedHostIdx\n",
    "    plt.plot(queueTracesDict[hostIdxToPlot]['time'], \n",
    "             queueTracesDict[hostIdxToPlot]['qSize'], \n",
    "             label=hostIdxToPlot)\n",
    "\n",
    "    plt.xlabel('Time (sec)')\n",
    "    plt.ylabel('Queue Size (KBytes)')\n",
    "    plt.title('The Queue Trace of the ToR Switch for ' + \\\n",
    "              workloadSource + ' Workload with ' + \\\n",
    "              str(networkLoad*100) + '% Load')\n",
    "    plt.legend(title='Host Idx')\n",
    "\n",
    "    plt.gca().spines[\"right\"].set_visible(False)\n",
    "    plt.gca().spines[\"top\"].set_visible(False)\n",
    "    plt.tight_layout()\n",
    "\n",
    "    plt.show()"
   ]
  },
  {
   "cell_type": "code",
   "execution_count": 15,
   "metadata": {},
   "outputs": [],
   "source": [
    "if (plotQueueFigures):\n",
    "    for hostIdx, qTrace in queueTracesDict.items():\n",
    "        plt.figure(figsize=figsize)\n",
    "        plt.grid()\n",
    "\n",
    "        plt.plot(qTrace['time'], qTrace['qSize'], label=hostIdx)\n",
    "\n",
    "        plt.xlabel('Time (sec)')\n",
    "        plt.ylabel('Queue Size (KBytes)')\n",
    "        plt.title('The Queue Trace of the ToR Switch for ' + \\\n",
    "                  workloadSource + ' Workload with ' + \\\n",
    "                  str(networkLoad*100) + '% Load')\n",
    "        plt.legend(title='Host Idx')\n",
    "\n",
    "        plt.gca().spines[\"right\"].set_visible(False)\n",
    "        plt.gca().spines[\"top\"].set_visible(False)\n",
    "        plt.tight_layout()\n",
    "\n",
    "        plt.show()"
   ]
  },
  {
   "cell_type": "markdown",
   "metadata": {},
   "source": [
    "# Alternative Way of Generating Slow Down Figures"
   ]
  },
  {
   "cell_type": "code",
   "execution_count": 16,
   "metadata": {},
   "outputs": [],
   "source": [
    "def get_pctl(a, p):\n",
    "    i = int(len(a) * p)\n",
    "    return a[i]"
   ]
  },
  {
   "cell_type": "code",
   "execution_count": 17,
   "metadata": {},
   "outputs": [],
   "source": [
    "step = 1"
   ]
  },
  {
   "cell_type": "code",
   "execution_count": 18,
   "metadata": {},
   "outputs": [],
   "source": [
    "zipData = []\n",
    "\n",
    "for msgSize, msgCompletionTimes in msgCompletionTimesDict.items():\n",
    "    \n",
    "    baseCompletionTime = (msgSize+pktPayloadSize)*8.0/10e9 + 0.5e-6 \\\n",
    "                          + 2*pktPayloadSize*8.0/40e9 + 0.5e-6\n",
    "    \n",
    "    for completionTime in msgCompletionTimes:\n",
    "        zipData.append((msgSize,completionTime/baseCompletionTime))\n",
    "        \n",
    "zipData = sorted(zipData)\n",
    "allSimMsgSizes = [x for x,_ in zipData]\n",
    "allSimSlowDowns = [x for _,x in zipData]"
   ]
  },
  {
   "cell_type": "code",
   "execution_count": 19,
   "metadata": {},
   "outputs": [],
   "source": [
    "res = [[i/100.] for i in range(0, 100, step)]\n",
    "nMsgs = len(allSimMsgSizes)\n",
    "for i in range(0,100,step):\n",
    "    l = int(i * nMsgs / 100)\n",
    "    r = int((i+step) * nMsgs / 100)\n",
    "    msOfThisStep = allSimMsgSizes[l:r]\n",
    "    sdOfThisStep = sorted(allSimSlowDowns[l:r])\n",
    "    res[int(i/step)].append(msOfThisStep[-1]) # flow size\n",
    "    #res[int(i/step)].append(sum(sdOfThisStep) / len(sdOfThisStep)) # avg fct\n",
    "    res[int(i/step)].append(get_pctl(sdOfThisStep, 0.5)) # mid fct\n",
    "    res[int(i/step)].append(get_pctl(sdOfThisStep, 0.95)) # 95-pct fct\n",
    "    res[int(i/step)].append(get_pctl(sdOfThisStep, 0.99)) # 99-pct fct\n",
    "allSimMsgSizePctls = np.array([100*x+step for x,_,_,_,_ in res])\n",
    "allSimMsgSizes = np.array([x for _,x,_,_,_ in res])\n",
    "allSimMedSlowDowns = np.array([x for _,_,x,_,_ in res])\n",
    "allSimSlowDowns95p = np.array([x for _,_,_,x,_ in res])\n",
    "allSimSlowDowns99p = np.array([x for _,_,_,_,x in res])"
   ]
  },
  {
   "cell_type": "code",
   "execution_count": 20,
   "metadata": {},
   "outputs": [
    {
     "ename": "NameError",
     "evalue": "name 'origMsgSizeCumPercents' is not defined",
     "output_type": "error",
     "traceback": [
      "\u001b[1;31m---------------------------------------------------------------------------\u001b[0m",
      "\u001b[1;31mNameError\u001b[0m                                 Traceback (most recent call last)",
      "\u001b[1;32mc:\\Users\\mcgin\\My Drive\\School\\UCSD\\Courses\\Fall 2023\\CSE 291\\Homa-ns3\\analysis\\MsgTraces-SlowdownAnalysis.ipynb Cell 25\u001b[0m line \u001b[0;36m5\n\u001b[0;32m      <a href='vscode-notebook-cell:/c%3A/Users/mcgin/My%20Drive/School/UCSD/Courses/Fall%202023/CSE%20291/Homa-ns3/analysis/MsgTraces-SlowdownAnalysis.ipynb#X33sZmlsZQ%3D%3D?line=1'>2</a>\u001b[0m plt\u001b[39m.\u001b[39mgrid()\n\u001b[0;32m      <a href='vscode-notebook-cell:/c%3A/Users/mcgin/My%20Drive/School/UCSD/Courses/Fall%202023/CSE%20291/Homa-ns3/analysis/MsgTraces-SlowdownAnalysis.ipynb#X33sZmlsZQ%3D%3D?line=3'>4</a>\u001b[0m plt\u001b[39m.\u001b[39mstep(allSimMsgSizePctls,allSimMedSlowDowns, label\u001b[39m=\u001b[39m\u001b[39m'\u001b[39m\u001b[39mNS-3 50\u001b[39m\u001b[39m%\u001b[39m\u001b[39m'\u001b[39m, color\u001b[39m=\u001b[39m\u001b[39m'\u001b[39m\u001b[39mC0\u001b[39m\u001b[39m'\u001b[39m)\n\u001b[1;32m----> <a href='vscode-notebook-cell:/c%3A/Users/mcgin/My%20Drive/School/UCSD/Courses/Fall%202023/CSE%20291/Homa-ns3/analysis/MsgTraces-SlowdownAnalysis.ipynb#X33sZmlsZQ%3D%3D?line=4'>5</a>\u001b[0m plt\u001b[39m.\u001b[39mstep(origMsgSizeCumPercents,origP50SlowDowns, label\u001b[39m=\u001b[39m\u001b[39m'\u001b[39m\u001b[39mOMNet++ 50\u001b[39m\u001b[39m%\u001b[39m\u001b[39m'\u001b[39m,\n\u001b[0;32m      <a href='vscode-notebook-cell:/c%3A/Users/mcgin/My%20Drive/School/UCSD/Courses/Fall%202023/CSE%20291/Homa-ns3/analysis/MsgTraces-SlowdownAnalysis.ipynb#X33sZmlsZQ%3D%3D?line=5'>6</a>\u001b[0m           linestyle\u001b[39m=\u001b[39m\u001b[39m'\u001b[39m\u001b[39m--\u001b[39m\u001b[39m'\u001b[39m, color\u001b[39m=\u001b[39m\u001b[39m'\u001b[39m\u001b[39mC0\u001b[39m\u001b[39m'\u001b[39m)\n\u001b[0;32m      <a href='vscode-notebook-cell:/c%3A/Users/mcgin/My%20Drive/School/UCSD/Courses/Fall%202023/CSE%20291/Homa-ns3/analysis/MsgTraces-SlowdownAnalysis.ipynb#X33sZmlsZQ%3D%3D?line=6'>7</a>\u001b[0m plt\u001b[39m.\u001b[39mstep(pfabricMsgSizeCumPercents,pfabricP50SlowDowns, label\u001b[39m=\u001b[39m\u001b[39m'\u001b[39m\u001b[39mpFabric 50\u001b[39m\u001b[39m%\u001b[39m\u001b[39m'\u001b[39m,\n\u001b[0;32m      <a href='vscode-notebook-cell:/c%3A/Users/mcgin/My%20Drive/School/UCSD/Courses/Fall%202023/CSE%20291/Homa-ns3/analysis/MsgTraces-SlowdownAnalysis.ipynb#X33sZmlsZQ%3D%3D?line=7'>8</a>\u001b[0m           linestyle\u001b[39m=\u001b[39m\u001b[39m'\u001b[39m\u001b[39m--\u001b[39m\u001b[39m'\u001b[39m, color\u001b[39m=\u001b[39m\u001b[39m'\u001b[39m\u001b[39mC3\u001b[39m\u001b[39m'\u001b[39m)\n\u001b[0;32m      <a href='vscode-notebook-cell:/c%3A/Users/mcgin/My%20Drive/School/UCSD/Courses/Fall%202023/CSE%20291/Homa-ns3/analysis/MsgTraces-SlowdownAnalysis.ipynb#X33sZmlsZQ%3D%3D?line=8'>9</a>\u001b[0m plt\u001b[39m.\u001b[39mstep(allSimMsgSizePctls,allSimSlowDowns99p,label\u001b[39m=\u001b[39m\u001b[39m'\u001b[39m\u001b[39mNS-3 99\u001b[39m\u001b[39m%\u001b[39m\u001b[39m'\u001b[39m, color\u001b[39m=\u001b[39m\u001b[39m'\u001b[39m\u001b[39mC1\u001b[39m\u001b[39m'\u001b[39m)\n",
      "\u001b[1;31mNameError\u001b[0m: name 'origMsgSizeCumPercents' is not defined"
     ]
    },
    {
     "data": {
      "image/png": "[encoded data removed]",
      "text/plain": [
       "<Figure size 1000x600 with 1 Axes>"
      ]
     },
     "metadata": {},
     "output_type": "display_data"
    }
   ],
   "source": [
    "plt.figure(figsize=figsize)\n",
    "plt.grid()\n",
    "\n",
    "plt.step(allSimMsgSizePctls,allSimMedSlowDowns, label='NS-3 50%', color='C0')\n",
    "plt.step(origMsgSizeCumPercents,origP50SlowDowns, label='OMNet++ 50%',\n",
    "          linestyle='--', color='C0')\n",
    "plt.step(pfabricMsgSizeCumPercents,pfabricP50SlowDowns, label='pFabric 50%',\n",
    "          linestyle='--', color='C3')\n",
    "plt.step(allSimMsgSizePctls,allSimSlowDowns99p,label='NS-3 99%', color='C1')\n",
    "plt.step(origMsgSizeCumPercents,origP99SlowDowns, label='OMNet++ 99%',\n",
    "          linestyle='--', color='C1')\n",
    "plt.step(pfabricMsgSizeCumPercents,pfabricP99SlowDowns, label='pFabric 99%',\n",
    "          linestyle=':', color='C3')\n",
    "\n",
    "plt.ylabel('Slow Down')\n",
    "plt.xlabel('Message Size (Bytes)')\n",
    "plt.title('Homa Message Completion Slowdown for ' + \\\n",
    "          workloadSource + ' Workload with ' + \\\n",
    "          str(networkLoad*100) + '% Load')\n",
    "plt.legend(loc='upper left')\n",
    "\n",
    "xTickPercentiles = np.linspace(10, 100, 10)\n",
    "xticks = np.percentile(allMsgSizes,xTickPercentiles).astype(int) \n",
    "plt.xticks(xTickPercentiles, xticks, rotation=45)\n",
    "\n",
    "plt.yscale('log')\n",
    "yticks = None\n",
    "if (networkLoad==0.5):\n",
    "    yticks = [1,2,3,4,5,10,15]\n",
    "    plt.ylim([1,15])\n",
    "elif (networkLoad==0.8):\n",
    "    yticks = [1,2,3,4,5,10,20,30]\n",
    "    plt.ylim([1,30])\n",
    "if (yticks):\n",
    "    plt.yticks(yticks, yticks)\n",
    "\n",
    "plt.gca().spines[\"right\"].set_visible(False)\n",
    "plt.gca().spines[\"top\"].set_visible(False)\n",
    "plt.tight_layout()\n",
    "\n",
    "# plt.savefig(folderName+'MsgComletionSlowdown'+simName+'.png')\n",
    "plt.show()"
   ]
  },
  {
   "cell_type": "code",
   "execution_count": null,
   "metadata": {},
   "outputs": [],
   "source": []
  }
 ],
 "metadata": {
  "kernelspec": {
   "display_name": "Python 3",
   "language": "python",
   "name": "python3"
  },
  "language_info": {
   "codemirror_mode": {
    "name": "ipython",
    "version": 3
   },
   "file_extension": ".py",
   "mimetype": "text/x-python",
   "name": "python",
   "nbconvert_exporter": "python",
   "pygments_lexer": "ipython3",
   "version": "3.10.11"
  }
 },
 "nbformat": 4,
 "nbformat_minor": 2
}
