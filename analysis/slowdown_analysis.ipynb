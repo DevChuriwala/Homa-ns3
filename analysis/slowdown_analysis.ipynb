{
 "cells": [
  {
   "cell_type": "code",
   "execution_count": 31,
   "metadata": {},
   "outputs": [],
   "source": [
    "import json\n",
    "import numpy as np\n",
    "from scipy import stats\n",
    "import math\n",
    "import matplotlib.pyplot as plt\n",
    "import pandas as pd"
   ]
  },
  {
   "cell_type": "code",
   "execution_count": 32,
   "metadata": {},
   "outputs": [],
   "source": [
    "# Constants\n",
    "\n",
    "figsize = (10,6)\n",
    "pktPayloadSize = 1460 # Bytes\n",
    "hdrSize = 40 #Bytes\n",
    "torBw = 10e9 # bps\n",
    "coreBw = 40e9 # bps\n",
    "\n",
    "oneWayDel = 1.0e-6 \\\n",
    "         + (pktPayloadSize+hdrSize)*8*(2/torBw + 2/coreBw)\n",
    "baseRtt = oneWayDel \\\n",
    "         + 1.0e-6 + 64*8*(2/torBw + 2/coreBw)\n",
    "\n",
    "bdpPkts = 7\n",
    "\n",
    "saturationTime = 3.1"
   ]
  },
  {
   "cell_type": "code",
   "execution_count": 33,
   "metadata": {},
   "outputs": [],
   "source": [
    "# Helpers\n",
    "\n",
    "def removeKey(d, key):\n",
    "    r = dict(d)\n",
    "    del r[key]\n",
    "    return r\n",
    "\n",
    "def getPctl(a, p):\n",
    "    i = int(len(a) * p)\n",
    "    return a[i]"
   ]
  },
  {
   "cell_type": "code",
   "execution_count": 34,
   "metadata": {},
   "outputs": [],
   "source": [
    "# filenames = [\"trace/MsgTraces_different_1.tr\", \"trace/MsgTraces_same_1.tr\"] \n",
    "# filenames = [\"trace/different-MsgTraces_W5_load-50p_0.tr\"]\n",
    "# filenames = [\"trace/MsgTraces_W5_load-80p_0_dynamic.tr\"]\n",
    "\n",
    "# filenames = [\"trace/different-MsgTraces_W5_load-50p_0.tr\", \"trace/MsgTraces_W5_load-80p_0_dynamic.tr\"]\n",
    "# filenames = [\"trace/MsgTraces_W5_load-80p_7_144.tr\", \"trace/different-MsgTraces_W5_load-50p_0.tr\", \"trace/MsgTraces_W5_load-80p_0_dynamic.tr\"]\n",
    "\n",
    "# filenames = ['trace/MsgTraces_W5_load-80p_7_8.tr']\n",
    "\n",
    "# filenames = ['trace/MsgTraces_W5_load-80p_dynamic_8.tr', 'trace/MsgTraces_W5_load-80p_dynamic_144.tr']\n",
    "# filenames = ['trace/MsgTraces_W5_load-100p_7_8.tr', 'trace/MsgTraces_W5_load-100p_7_144.tr']\n",
    "# filenames = ['trace/MsgTraces_W5_load-80p_dynamic_8.tr', 'trace/MsgTraces_W5_load-80p_dynamic_144.tr']\n",
    "\n",
    "# filenames = [\"trace/MsgTraces_W5_load-100p_0_24hr_7bdp_144node.tr\"]\n",
    "# filenames = [\"trace/MsgTraces_W5_load-100p_0_1toall_8nodes_7bdp.tr\"]\n",
    "\n",
    "# filenames = [\"trace/MsgTraces_W5_load-100p_0_24hr_7bdp_144node.tr\",\"trace/MsgTraces_W5_load-100p_0_1toall_8nodes_7bdp.tr\"]\n",
    "# filenames = ['trace/MsgTraces_W5_load-100p_0.tr', 'trace/MsgTraces_W5_load-100p_1.tr', 'trace/MsgTraces_W5_load-100p_dynamic_new_24h_144.tr', \"trace/MsgTraces_W5_load-100p_0_24hr_7bdp_144node.tr\"]\n",
    "\n",
    "\n",
    "filenames = ['trace/MsgTraces_W5_load-100p_dynamic_new_24h_144.tr', \"trace/MsgTraces_W5_load-100p_0_24hr_7bdp_144node.tr\"]"
   ]
  },
  {
   "cell_type": "code",
   "execution_count": 35,
   "metadata": {},
   "outputs": [],
   "source": [
    "colors = [\"#E69F00\", \"#56B4E9\", \"#009E73\", \"#F0E442\", \"#0072B2\", \"#D55E00\", \"#CC79A7\", \"#000000\"]"
   ]
  },
  {
   "cell_type": "code",
   "execution_count": 36,
   "metadata": {},
   "outputs": [],
   "source": [
    "\n",
    "# Verify filename matches format: trace/MsgTraces_W5_load-80p_7_8.tr\n",
    "def verifyFilename(filename):\n",
    "    if filename[:18] != \"trace/MsgTraces_W5\":\n",
    "        print(\"Filename does not match format: MsgTraces_W5\")\n",
    "        return False\n",
    "    if filename[-3:] != \".tr\":\n",
    "        print(\"Filename does not match format: .tr\")\n",
    "        return False\n",
    "    return True\n",
    "\n",
    "def getLoad(filename):\n",
    "    return filename.split(\"_\")[2].split(\"-\")[1][:-1]\n",
    "\n",
    "def getBDP(filename):\n",
    "    return filename.split(\"_\")[3]\n",
    "\n",
    "def getNumNodes(filename):\n",
    "    return filename.split(\"_\")[4][:-3]\n"
   ]
  },
  {
   "cell_type": "code",
   "execution_count": 37,
   "metadata": {},
   "outputs": [
    {
     "name": "stdout",
     "output_type": "stream",
     "text": [
      "Error parsing filename: trace/MsgTraces_W5_load-100p_dynamic_new_24h_144.tr\n"
     ]
    }
   ],
   "source": [
    "file_num_nodes = []\n",
    "file_network_load = []\n",
    "file_bdp = []\n",
    "\n",
    "for i, filename in enumerate(filenames):\n",
    "    num_nodes = 0\n",
    "    networkLoad = 0\n",
    "    bdp = \"0\"\n",
    "    \n",
    "    if verifyFilename(filename):\n",
    "        try:\n",
    "            num_nodes = int(getNumNodes(filename))\n",
    "            networkLoad = float(getLoad(filename))/100\n",
    "            bdp = getBDP(filename)\n",
    "        except:\n",
    "            print(\"Error parsing filename: \" + filename)\n",
    "    \n",
    "    file_num_nodes.append(num_nodes)\n",
    "    file_network_load.append(networkLoad)\n",
    "    file_bdp.append(bdp)"
   ]
  },
  {
   "cell_type": "code",
   "execution_count": 38,
   "metadata": {},
   "outputs": [],
   "source": [
    "fileMsgStartEntryDict = []\n",
    "fileMsgCompletionTimesDict = []\n",
    "fileAllMsgSizes = []\n",
    "fileMsgSizePercentiles = []\n",
    "\n",
    "fileMsgCompletionTimesDictSameSwitch = []\n",
    "fileMsgCompletionTimesDictDiffSwitch = []"
   ]
  },
  {
   "cell_type": "code",
   "execution_count": 39,
   "metadata": {},
   "outputs": [
    {
     "name": "stdout",
     "output_type": "stream",
     "text": [
      "0 trace/MsgTraces_W5_load-100p_dynamic_new_24h_144.tr\n"
     ]
    },
    {
     "name": "stdout",
     "output_type": "stream",
     "text": [
      "1 trace/MsgTraces_W5_load-100p_0_24hr_7bdp_144node.tr\n"
     ]
    }
   ],
   "source": [
    "for i, filename in enumerate(filenames):\n",
    "    print(i, filename)\n",
    "\n",
    "    # Dict of start time\n",
    "    msgStartEntryDict = {}\n",
    "    # Dict of completion time\n",
    "    msgCompletionTimesDict = {}\n",
    "    # List of all message sizes\n",
    "    allMsgSizes = []\n",
    "\n",
    "    msgCompletionTimesDictSameSwitch = {}\n",
    "    msgCompletionTimesDictDiffSwitch = {}\n",
    "\n",
    "    # For 144 nodes 16 switches\n",
    "    def isSameSwitch(sender, receiver, numSwitches):\n",
    "        # senderSwitchNum = int(sender.split(\".\")[2]) // numSwitches\n",
    "        # receiverSwitchNum = int(receiver.split(\".\")[2]) // numSwitches\n",
    "        # return senderSwitchNum == receiverSwitchNum\n",
    "        # print(sender, receiver)\n",
    "        senderPortNum = (int(sender.split(\":\")[1]) - 1000) // numSwitches\n",
    "        receiverPortNum = (int(receiver.split(\":\")[1]) - 1000) // numSwitches\n",
    "        # print(senderPortNum, receiverPortNum)\n",
    "        return senderPortNum == receiverPortNum\n",
    "\n",
    "\n",
    "    with open(filename,'r') as f:\n",
    "        for line in f:\n",
    "            msgLog = line.split()\n",
    "\n",
    "            time = float(msgLog[1])*1e-9        # in seconds\n",
    "            msgSize = int(msgLog[2])            # in bytes\n",
    "            sender = msgLog[3]                  # ip:port\n",
    "            receiver = msgLog[4]                # ip:port\n",
    "            txMsgId = int(msgLog[5])\n",
    "\n",
    "            key = (sender, receiver, txMsgId, i)\n",
    "\n",
    "            # Skip warmup messages\n",
    "            if msgSize == 10:\n",
    "                continue\n",
    "\n",
    "            # Sender\n",
    "            if (msgLog[0]=='+'):\n",
    "                if (key in msgStartEntryDict):\n",
    "                    msgStartEntryDict[key].append(time)\n",
    "                else:\n",
    "                    # Create new entry if not in dict\n",
    "                    msgStartEntryDict[key] = [time]\n",
    "            # Receiver\n",
    "            elif (msgLog[0] =='-'):\n",
    "                if (key in msgStartEntryDict):\n",
    "                    # Find matching start entry\n",
    "                    startTime = msgStartEntryDict[key].pop()\n",
    "\n",
    "                    # Remove from startEntryDict (message completed)\n",
    "                    if (len(msgStartEntryDict[key]) <= 0):\n",
    "                        msgStartEntryDict = removeKey(msgStartEntryDict, key)\n",
    "\n",
    "                    # Invalid\n",
    "                    if(startTime < saturationTime):\n",
    "                        continue\n",
    "                    \n",
    "                    # Valid\n",
    "                    if (msgSize in msgCompletionTimesDict):\n",
    "                        msgCompletionTimesDict[msgSize].append(time-startTime)\n",
    "                    else:\n",
    "                        # Create entry if not in dict\n",
    "                        msgCompletionTimesDict[msgSize] = [time-startTime]\n",
    "\n",
    "                    # Same switch\n",
    "                    if (isSameSwitch(sender, receiver, 9)):\n",
    "                        if (msgSize in msgCompletionTimesDictSameSwitch):\n",
    "                            msgCompletionTimesDictSameSwitch[msgSize].append(time-startTime)\n",
    "                        else:\n",
    "                            # Create entry if not in dict\n",
    "                            msgCompletionTimesDictSameSwitch[msgSize] = [time-startTime]\n",
    "                    # Different switch\n",
    "                    else:\n",
    "                        if (msgSize in msgCompletionTimesDictDiffSwitch):\n",
    "                            msgCompletionTimesDictDiffSwitch[msgSize].append(time-startTime)\n",
    "                        else:\n",
    "                            # Create entry if not in dict\n",
    "                            msgCompletionTimesDictDiffSwitch[msgSize] = [time-startTime]\n",
    "\n",
    "                    # Add to list of all message sizes\n",
    "                    allMsgSizes.append(msgSize)\n",
    "                else:\n",
    "                    print('ERROR: Start entry of message (' \\\n",
    "                        + sender + ' > ' + receiver + ', ' + str(txMsgId) \\\n",
    "                        + ') not found!')\n",
    "                    \n",
    "    allMsgSizes = np.array(allMsgSizes)\n",
    "    msgSizePercentiles = stats.rankdata(allMsgSizes, 'max')/len(allMsgSizes)*100\n",
    "\n",
    "    fileMsgStartEntryDict.append(msgStartEntryDict)\n",
    "    fileMsgCompletionTimesDict.append(msgCompletionTimesDict)\n",
    "    fileAllMsgSizes.append(allMsgSizes)\n",
    "    fileMsgSizePercentiles.append(msgSizePercentiles)\n",
    "\n",
    "    fileMsgCompletionTimesDictSameSwitch.append(msgCompletionTimesDictSameSwitch)\n",
    "    fileMsgCompletionTimesDictDiffSwitch.append(msgCompletionTimesDictDiffSwitch)"
   ]
  },
  {
   "cell_type": "code",
   "execution_count": 54,
   "metadata": {},
   "outputs": [
    {
     "name": "stdout",
     "output_type": "stream",
     "text": [
      "0 trace/MsgTraces_W5_load-100p_dynamic_new_24h_144.tr\n",
      "Same switch: 1963\n",
      "Different switch: 33498\n",
      "1 trace/MsgTraces_W5_load-100p_0_24hr_7bdp_144node.tr\n",
      "Same switch: 1512\n",
      "Different switch: 25932\n",
      "\n",
      "0 trace/MsgTraces_W5_load-100p_dynamic_new_24h_144.tr\n",
      "Same switch throughput: 5.319318183340085\n",
      "Different switch throughput: 7.750715901907968\n",
      "1 trace/MsgTraces_W5_load-100p_0_24hr_7bdp_144node.tr\n",
      "Same switch throughput: 5.95267367877736\n",
      "Different switch throughput: 7.14431187797979\n"
     ]
    }
   ],
   "source": [
    "for i, filename in enumerate(filenames):\n",
    "    print(i, filename)\n",
    "    # Print same switch number of messages\n",
    "    total_count = 0\n",
    "    for key in fileMsgCompletionTimesDictSameSwitch[i]:\n",
    "        total_count += len(fileMsgCompletionTimesDictSameSwitch[i][key])\n",
    "    print(\"Same switch: \" + str(total_count))\n",
    "\n",
    "    # Print different switch number of messages\n",
    "    total_count = 0\n",
    "    for key in fileMsgCompletionTimesDictDiffSwitch[i]:\n",
    "        total_count += len(fileMsgCompletionTimesDictDiffSwitch[i][key])\n",
    "    \n",
    "    print(\"Different switch: \" + str(total_count))\n",
    "\n",
    "print()\n",
    "\n",
    "for i, filename in enumerate(filenames):\n",
    "    print(i , filename)\n",
    "\n",
    "    total_throughput = 0\n",
    "    for msgSize in fileMsgCompletionTimesDictSameSwitch[i]:\n",
    "        # if total_throughput == 0:\n",
    "        #     print(msgSize, fileMsgCompletionTimesDictSameSwitch[i][msgSize])\n",
    "        total_throughput += msgSize * len(fileMsgCompletionTimesDictSameSwitch[i][msgSize]) / sum(fileMsgCompletionTimesDictSameSwitch[i][msgSize])\n",
    "        \n",
    "\n",
    "    # Convert from bytes/ns to bytes/s\n",
    "    # total_throughput = total_throughput * 1e9\n",
    "\n",
    "    # Convert from bytes/s to Gbps\n",
    "    total_throughput = total_throughput * 10e-9 / 144\n",
    "\n",
    "    print(\"Same switch throughput: \" + str(total_throughput))\n",
    "\n",
    "    total_throughput = 0\n",
    "    for msgSize in fileMsgCompletionTimesDictDiffSwitch[i]:\n",
    "        total_throughput += msgSize * len(fileMsgCompletionTimesDictDiffSwitch[i][msgSize]) / sum(fileMsgCompletionTimesDictDiffSwitch[i][msgSize])\n",
    "\n",
    "    # Convert from bytes/ns to bytes/s\n",
    "    # total_throughput = total_throughput * 1e9\n",
    "\n",
    "    # Convert from bytes/s to Gbps\n",
    "    total_throughput = total_throughput * 10e-9 / 144\n",
    "\n",
    "    print(\"Different switch throughput: \" + str(total_throughput))\n",
    "\n",
    "\n",
    "    "
   ]
  },
  {
   "cell_type": "code",
   "execution_count": 41,
   "metadata": {},
   "outputs": [
    {
     "name": "stdout",
     "output_type": "stream",
     "text": [
      "\n",
      " 0 trace/MsgTraces_W5_load-100p_dynamic_new_24h_144.tr\n",
      "Number of uncompleted messages: 1112\n",
      "Number of distinct message sizes: 400\n",
      "Number of distinct message sizes that have multiple measurements: 399\n",
      "Number of distinct messages: 35461\n",
      "Non-Full Packet Message Sizes:  [(229100, 1340), (23200, 1300), (967150, 630), (65250, 1010), (813450, 230), (2900, 1440), (1450, 1450), (66700, 1000), (69600, 980), (4687850, 1250), (60900, 1040), (14500, 1360), (2730350, 150), (1161450, 750), (26100, 1280), (63800, 1020), (1474650, 50), (73950, 950), (4350, 1430), (46400, 1140), (13050, 1370), (72500, 960), (53650, 1090), (7250, 1410), (108750, 710), (4325350, 830), (98600, 780), (56550, 1070), (3527850, 490), (31900, 1240), (21750, 1310), (281300, 980), (2077850, 270), (169650, 290), (4832850, 250), (8700, 1400), (5800, 1420), (1136800, 920), (1064300, 1420), (3600350, 1450), (600300, 240), (2440350, 690), (10150, 1390), (124700, 600), (145000, 460), (20300, 1320), (52200, 1100), (58000, 1060), (4397850, 330), (71050, 970), (29000, 1260), (1740000, 1140), (4470350, 1290), (522000, 780), (34800, 1220), (97150, 790), (42050, 1170), (95700, 800), (101500, 760), (152250, 410), (464000, 1180), (561150, 510), (24650, 1290), (15950, 1350), (503150, 910), (40600, 1180), (18850, 1330), (3745350, 450), (27550, 1270), (39150, 1190), (677150, 1170), (155150, 390), (3962850, 410), (44950, 1150), (174000, 260), (55100, 1080), (639450, 1430), (113100, 680), (49300, 1120), (168200, 300), (991800, 460), (76850, 930), (13051450, 510), (91350, 830), (774300, 500), (75400, 940), (580000, 380), (50750, 1110), (294350, 890), (445150, 1310), (484300, 1040), (1112150, 1090), (890300, 1160), (185600, 180), (3455350, 990), (1354300, 880), (542300, 640), (3165350, 70), (62350, 1030), (1837150, 470), (4252850, 1330), (16917150, 130), (68150, 990), (1233950, 250), (426300, 1440), (166750, 310), (1522500, 1180), (1016450, 290), (33350, 1230), (1402150, 550), (658300, 1300), (4542850, 790), (1209300, 420), (2947850, 110), (1861800, 300), (3817850, 1410), (2150350, 1230), (176900, 240), (2295350, 230), (102950, 750), (1450000, 220), (1764650, 970), (118900, 640), (948300, 760), (47850, 1130), (619150, 110), (188500, 160), (1716800, 1300), (17400, 1340), (832300, 100), (793150, 370), (197200, 100), (149350, 430), (3310350, 530), (1812500, 640), (25617150, 1450), (1088950, 1250), (755450, 630), (11600, 1380), (1547150, 1010), (1499300, 1340), (716300, 900), (4035350, 1370), (111650, 690), (1692150, 10), (21751450, 370), (81200, 900), (37700, 1200), (172550, 270), (191400, 140), (3237850, 1030), (1329650, 1050), (30450, 1250), (24651450, 810), (105850, 730), (1909650, 1430), (339300, 580), (84100, 880), (2512850, 190), (327700, 660), (735150, 770), (232000, 1320), (2802850, 1110), (313200, 760), (36250, 1210), (1885000, 140), (43500, 1160), (18367150, 350), (3672850, 950), (92800, 820), (214600, 1440), (3020350, 1070), (179800, 220), (160950, 350), (1595000, 680), (207350, 30), (216050, 1430), (1378950, 710), (3382850, 30), (22234300, 1420), (59450, 1050), (10151450, 70), (237800, 1280), (851150, 1430), (1306450, 1210), (15467150, 1370), (4760350, 750), (406000, 120), (194300, 120), (192850, 130), (28034300, 840), (1281800, 1380), (82650, 890), (121800, 620), (282750, 970), (2222850, 730), (4615350, 290), (1184650, 590), (2657850, 650), (14984300, 320), (12084300, 1340), (22717150, 1010), (1932850, 1270), (3890350, 910), (1667500, 180), (871450, 1290), (153700, 400), (334950, 610), (307400, 800), (1789300, 800), (2585350, 1150), (2367850, 1190), (697450, 1030), (175450, 250), (387150, 250), (1426800, 380), (2005350, 770), (1644300, 340), (189950, 150), (127600, 580), (187050, 170), (20784300, 1200), (116000, 660), (146450, 450), (16434300, 540), (343650, 550), (14501450, 730), (27551450, 1250), (320450, 710), (2875350, 610), (368300, 380), (195750, 110), (1571800, 840), (323350, 690), (88450, 850), (278400, 1000), (133400, 540), (87000, 860), (246500, 1220), (4180350, 370), (11117150, 710), (147900, 440), (126150, 590), (11601450, 290), (117450, 650), (221850, 1390), (134850, 530), (89900, 840), (136300, 520), (1039650, 130), (94250, 810), (20301450, 150), (184150, 190), (4107850, 870), (909150, 1030), (314650, 750), (110200, 700), (100050, 770), (305950, 810), (21267150, 790), (304500, 820), (120350, 630), (350900, 500), (24167150, 1230), (143550, 470), (23201450, 590), (15951450, 950), (114550, 670), (129050, 570), (279850, 990), (159500, 360), (292900, 900), (269700, 1060), (1257150, 90), (239250, 1270), (217500, 1420), (162400, 340), (287100, 940), (130500, 560), (79750, 910), (319000, 720), (14017150, 1150), (182700, 200), (333500, 620), (12567150, 930), (158050, 370), (276950, 1010), (295800, 880), (3092850, 570), (929450, 890), (316100, 740), (18851450, 1390), (140650, 490), (262450, 1110), (10634300, 1120), (137750, 510), (355250, 470), (288550, 930), (104400, 740), (359600, 440), (163850, 330), (290000, 920), (123250, 610), (156600, 380), (178350, 230), (1619650, 510), (291450, 910), (171100, 280), (107300, 720), (85550, 870), (139200, 500), (17884300, 760), (26101450, 1030), (198650, 90), (17401450, 1170), (25134300, 400), (340750, 570), (78300, 920), (142100, 480), (250850, 1190), (220400, 1400), (298700, 860), (19817150, 570), (349450, 510), (201550, 70), (13534300, 100), (271150, 1050), (29000000, 20), (268250, 1070), (345100, 540), (224750, 1370), (218950, 1410), (19334300, 980), (301600, 840), (348000, 520), (259550, 1130), (28517150, 430), (23684300, 180), (165300, 320), (353800, 480), (200100, 80), (27067150, 210), (204450, 50), (230550, 1330), (181250, 210), (261000, 1120), (263900, 1100), (303050, 830), (342200, 560), (131950, 550), (236350, 1290), (242150, 1250), (26584300, 620), (326250, 670), (203000, 60), (247950, 1210), (234900, 1300), (227650, 1350), (346550, 530), (317550, 730), (150800, 420), (252300, 1180), (329150, 650), (240700, 1260), (310300, 780), (285650, 950), (205900, 40), (274050, 1030), (208800, 20), (337850, 590), (308850, 790), (253750, 1170), (226200, 1360), (352350, 490), (330600, 640), (332050, 630), (210250, 10), (284200, 960), (275500, 1020), (223300, 1380), (356700, 460), (300150, 850), (213150, 1450), (358150, 450), (245050, 1230), (243600, 1240), (321900, 700), (258100, 1140), (265350, 1090), (233450, 1310), (297250, 870), (311750, 770), (272600, 1040), (324800, 680), (255200, 1160), (266800, 1080), (256650, 1150), (336400, 600), (249400, 1200)]\n",
      "\n",
      " 1 trace/MsgTraces_W5_load-100p_0_24hr_7bdp_144node.tr\n",
      "Number of uncompleted messages: 1020\n",
      "Number of distinct message sizes: 399\n",
      "Number of distinct message sizes that have multiple measurements: 396\n",
      "Number of distinct messages: 27444\n"
     ]
    }
   ],
   "source": [
    "# Basic stats\n",
    "\n",
    "for i, filename in enumerate(filenames):\n",
    "    print(\"\\n\", i, filename)\n",
    "\n",
    "    # Items remaining in startEntryDict were uncompleted\n",
    "    numUncompleted = 0\n",
    "    for msgKey, msgStartTimes in fileMsgStartEntryDict[i].items():\n",
    "        numUncompleted += len(msgStartTimes)\n",
    "\n",
    "    print('Number of uncompleted messages: ' + str(numUncompleted))\n",
    "    print('Number of distinct message sizes: ' + str(len(fileMsgCompletionTimesDict[i])))\n",
    "\n",
    "    cntMultMeasures = 0\n",
    "    numMsgs = 0\n",
    "    nonFullPacketMsgSizes = []\n",
    "    for msgSize, msgCompletionTimes in fileMsgCompletionTimesDict[i].items():\n",
    "        # Count number of distinct message sizes that have multiple measurements\n",
    "        if (len(msgCompletionTimes)>1):\n",
    "            cntMultMeasures += 1\n",
    "\n",
    "        # Count number of distinct messages\n",
    "        numMsgs += len(msgCompletionTimes)\n",
    "        \n",
    "        # Count number of non-full packet messages\n",
    "        if (msgSize%pktPayloadSize != 0):\n",
    "            # print(msgSize%1452)\n",
    "            # Dynamic packets are 1452, not 1460, so this is expected\n",
    "            nonFullPacketMsgSizes.append((msgSize,msgSize%pktPayloadSize))\n",
    "        \n",
    "    print('Number of distinct message sizes that have multiple measurements: ' + str(cntMultMeasures))   \n",
    "    print('Number of distinct messages: ' + str(numMsgs)) \n",
    "\n",
    "    if (nonFullPacketMsgSizes):\n",
    "        print('Non-Full Packet Message Sizes: ', nonFullPacketMsgSizes)"
   ]
  },
  {
   "cell_type": "code",
   "execution_count": 42,
   "metadata": {},
   "outputs": [],
   "source": [
    "FileSimMsgSizes = []\n",
    "FileSimP50CompletionTimes = []\n",
    "FileSimP99CompletionTimes = []\n",
    "FileSimBaseCompletionTimes = []\n",
    "FileSimP50SlowDowns = []\n",
    "FileSimP99SlowDowns = []"
   ]
  },
  {
   "cell_type": "code",
   "execution_count": 43,
   "metadata": {},
   "outputs": [
    {
     "name": "stdout",
     "output_type": "stream",
     "text": [
      "\n",
      " 0 trace/MsgTraces_W5_load-100p_dynamic_new_24h_144.tr\n"
     ]
    },
    {
     "name": "stdout",
     "output_type": "stream",
     "text": [
      "\n",
      " 1 trace/MsgTraces_W5_load-100p_0_24hr_7bdp_144node.tr\n"
     ]
    }
   ],
   "source": [
    "# Get slowdowns\n",
    "\n",
    "for i, filename in enumerate(filenames):\n",
    "    print(\"\\n\", i, filename)\n",
    "\n",
    "    SimMsgSizes = []\n",
    "    SimP50CompletionTimes = []\n",
    "    SimP99CompletionTimes = []\n",
    "    SimBaseCompletionTimes = []\n",
    "    SimP50SlowDowns = []\n",
    "    SimP99SlowDowns = []\n",
    "\n",
    "    for msgSize, msgCompletionTimes in fileMsgCompletionTimesDict[i].items():\n",
    "        \n",
    "        SimMsgSizes.append(msgSize)\n",
    "        \n",
    "        times = np.array(msgCompletionTimes)\n",
    "        p50CompletionTime = np.percentile(times,50)\n",
    "        SimP50CompletionTimes.append(p50CompletionTime)\n",
    "        p99CompletionTime = np.percentile(times,99)\n",
    "        SimP99CompletionTimes.append(p99CompletionTime)\n",
    "        \n",
    "        totBytes = msgSize + math.ceil(msgSize / pktPayloadSize) * (hdrSize) \n",
    "        baseCompletionTime = totBytes * 8 / torBw;\n",
    "        if (msgSize > bdpPkts * pktPayloadSize):\n",
    "            baseCompletionTime += oneWayDel#baseRtt\n",
    "        else:\n",
    "            baseCompletionTime += oneWayDel\n",
    "    #     baseCompletionTime = (msgSize+pktPayloadSize)*8.0/10e9 + 0.5e-6 \\\n",
    "    #                           + 2*pktPayloadSize*8.0/40e9 + 0.5e-6\n",
    "        \n",
    "        SimBaseCompletionTimes.append(baseCompletionTime)\n",
    "        \n",
    "        SimP50SlowDowns.append(p50CompletionTime / baseCompletionTime)\n",
    "        SimP99SlowDowns.append(p99CompletionTime / baseCompletionTime)\n",
    "\n",
    "    #     slowDowns = times / baseCompletionTime\n",
    "    #     slowDowns = np.where(slowDowns < 1.0, 1.0, slowDowns)\n",
    "\n",
    "    #     SimP50SlowDowns.append(np.percentile(slowDowns,50))\n",
    "    #     SimP99SlowDowns.append(np.percentile(slowDowns,99))\n",
    "        \n",
    "    zipData = sorted(zip(SimMsgSizes,\n",
    "                        SimP50CompletionTimes,\n",
    "                        SimP99CompletionTimes,\n",
    "                        SimBaseCompletionTimes,\n",
    "                        SimP50SlowDowns,\n",
    "                        SimP99SlowDowns))\n",
    "        \n",
    "    SimMsgSizes = np.array([x for x,_,_,_,_,_ in zipData])\n",
    "    SimP50CompletionTimes = np.array([x for _,x,_,_,_,_ in zipData])\n",
    "    SimP99CompletionTimes = np.array([x for _,_,x,_,_,_ in zipData])\n",
    "    SimBaseCompletionTimes = np.array([x for _,_,_,x,_,_ in zipData])\n",
    "    SimP50SlowDowns = np.array([x for _,_,_,_,x,_ in zipData])\n",
    "    SimP99SlowDowns = np.array([x for _,_,_,_,_,x in zipData])\n",
    "\n",
    "    FileSimMsgSizes.append(SimMsgSizes)\n",
    "    FileSimP50CompletionTimes.append(SimP50CompletionTimes)\n",
    "    FileSimP99CompletionTimes.append(SimP99CompletionTimes)\n",
    "    FileSimBaseCompletionTimes.append(SimBaseCompletionTimes)\n",
    "    FileSimP50SlowDowns.append(SimP50SlowDowns)\n",
    "    FileSimP99SlowDowns.append(SimP99SlowDowns)"
   ]
  },
  {
   "cell_type": "code",
   "execution_count": 44,
   "metadata": {},
   "outputs": [],
   "source": [
    "maxSize = 0\n",
    "for i, filename in enumerate(filenames):\n",
    "    # Get max size of each file\n",
    "    for msgSize in fileMsgCompletionTimesDict[i].keys():\n",
    "        if (msgSize > maxSize):\n",
    "            maxSize = msgSize\n",
    "\n",
    "# Create 10 xticks from 0 to maxsize\n",
    "xticks = np.arange(0, maxSize+1, maxSize/10)\n"
   ]
  },
  {
   "cell_type": "code",
   "execution_count": 45,
   "metadata": {},
   "outputs": [],
   "source": [
    "def moving_average(data, window_size):\n",
    "    return pd.Series(data).rolling(window=window_size).mean()"
   ]
  },
  {
   "cell_type": "code",
   "execution_count": 46,
   "metadata": {},
   "outputs": [],
   "source": [
    "def plot_file(i, ax, window_size=50, plot_avg=False, only50=False, only99=False):\n",
    "    x = [fileMsgSizePercentiles[i][np.where(fileAllMsgSizes[i] == msgsize)[0][0]] for msgsize in FileSimMsgSizes[i]]\n",
    "    # x = [fileMsgSizePercentiles[i][np.where(fileAllMsgSizes[i] == msgsize)[0][0]] for msgsize in FileSimMsgSizes[i]]\n",
    "    x = FileSimMsgSizes[i]\n",
    "    y50 = FileSimP50SlowDowns[i]\n",
    "    y99 = FileSimP99SlowDowns[i]\n",
    "\n",
    "    # Calculate moving averages\n",
    "    moving_avg_50 = moving_average(y50, window_size=window_size)\n",
    "    moving_avg_99 = moving_average(y99, window_size=window_size)\n",
    "\n",
    "    label = f'{file_num_nodes[i]}nodes_{file_network_load[i]}load_{file_bdp[i]}pkts'\n",
    "\n",
    "    plot_both = not only50 and not only99\n",
    "    if not plot_avg:\n",
    "        if only50 or plot_both: ax.step(x, y50, label=f'{label} 50%', color=colors[i], linestyle='--')\n",
    "        if only99 or plot_both: ax.step(x, y99, label=f'{label} 99%', color=colors[i])\n",
    "\n",
    "    # Plot moving averages\n",
    "    if plot_avg:\n",
    "        if only50 or plot_both: ax.plot(x, moving_avg_50, label=f'{label} 50%', color=colors[i])\n",
    "        if only99 or plot_both: ax.plot(x, moving_avg_99, label=f'{label} 99%', color=colors[i])\n",
    "\n",
    "    # Existing plotting code...\n",
    "    # ax.ylabel('Slow Down')\n",
    "    # ax.xlabel('Message Size (Bytes)')\n",
    "    # ax.title(f'Homa Message Completion Slowdown for {file_num_nodes[i]} Nodes with {file_network_load[i]*100}% Load')\n",
    "    # ax.legend(loc='upper left')\n",
    "    # ----------------------------------------------\n",
    "\n",
    "    # xTickPercentiles = np.linspace(10, 100, 10)\n",
    "    # # xticks = np.percentile(fileAllMsgSizes[i],xTickPercentiles).astype(int) \n",
    "    # # xticks = np.percentile(maxSize,xTickPercentiles).astype(int) \n",
    "    # # Give list of xticks where each xtick is percentage of maxSize, 10%, 20%, etc\n",
    "    # xticks = np.logspace(start=0, stop=np.log10(maxSize), num=10, endpoint=True)\n",
    "\n",
    "\n",
    "    # # plt.xticks(xTickPercentiles, xticks, rotation=45)\n",
    "\n",
    "    # # xticks = np.percentile(maxSize,xTickPercentiles).astype(int) \n",
    "    # plt.xticks(xTickPercentiles, xticks, rotation=45)\n",
    "\n",
    "    ax.spines[\"right\"].set_visible(False)\n",
    "    ax.spines[\"top\"].set_visible(False)\n",
    "    # plt.tight_layout()"
   ]
  },
  {
   "cell_type": "code",
   "execution_count": 47,
   "metadata": {},
   "outputs": [
    {
     "name": "stdout",
     "output_type": "stream",
     "text": [
      "\n",
      " 0 trace/MsgTraces_W5_load-100p_dynamic_new_24h_144.tr\n",
      "\n",
      " 1 trace/MsgTraces_W5_load-100p_0_24hr_7bdp_144node.tr\n"
     ]
    },
    {
     "data": {
      "image/png": "[encoded data removed]",
      "text/plain": [
       "<Figure size 1000x600 with 1 Axes>"
      ]
     },
     "metadata": {},
     "output_type": "display_data"
    }
   ],
   "source": [
    "fig, ax = plt.subplots(figsize=figsize)\n",
    "# ax.ylabel('Slow Down')\n",
    "# ax.xlabel('Message Size (Bytes)')\n",
    "# ax.title(f'Homa Message Completion Slowdown for {file_num_nodes[i]} Nodes with {file_network_load[i]*100}% Load')\n",
    "# ax.legend(loc='upper left')\n",
    "ax.set_ylabel('Slow Down')\n",
    "ax.set_xlabel('Message Size (Bytes)')\n",
    "ax.set_title(f'Homa Message Completion Slowdown for {file_num_nodes[i]} Nodes with {file_network_load[i]*100}% Load')\n",
    "ax.grid(True, which='major', axis='both')\n",
    "\n",
    "for i, filename in enumerate(filenames):\n",
    "    print(\"\\n\", i, filename)\n",
    "    plot_file(i, ax, window_size=10, plot_avg=True)  # Pass the ax object here\n",
    "\n",
    "ax.set_yscale('log')\n",
    "ax.set_ylim([1,100])\n",
    "yticks = [1,2,3,4,5,10,20,30,50,100]\n",
    "ax.set_yticks(yticks)\n",
    "\n",
    "# Put labels on y axis\n",
    "ax.set_yticklabels(yticks)\n",
    "\n",
    "# xlim of 5000 to inf\n",
    "ax.set_xlim([5000, maxSize])\n",
    "\n",
    "ax.set_xscale('log')\n",
    "\n",
    "ax.legend(loc='upper left')\n",
    "# Remove plt.tight_layout() from the function and call it here\n",
    "plt.tight_layout()\n",
    "plt.show()"
   ]
  },
  {
   "cell_type": "code",
   "execution_count": 48,
   "metadata": {},
   "outputs": [
    {
     "name": "stdout",
     "output_type": "stream",
     "text": [
      "0 trace/MsgTraces_W5_load-100p_dynamic_new_24h_144.tr\n",
      "50% slowdown mean:  4.150962109128594\n",
      "99% slowdown mean:  10.056993311113597\n",
      "50% slowdown std:  0.8966018989899921\n",
      "99% slowdown std:  3.4636151781124087\n",
      "1 trace/MsgTraces_W5_load-100p_0_24hr_7bdp_144node.tr\n",
      "50% slowdown mean:  4.645704409144738\n",
      "99% slowdown mean:  7.818235219759197\n",
      "50% slowdown std:  0.847149611835184\n",
      "99% slowdown std:  1.9842620300738263\n"
     ]
    }
   ],
   "source": [
    "for i, filename in enumerate(filenames):\n",
    "    # print mean of 50% and 99% slowdowns\n",
    "    print(i, filename)\n",
    "    print(\"50% slowdown mean: \", np.mean(FileSimP50SlowDowns[i]))\n",
    "    print(\"99% slowdown mean: \", np.mean(FileSimP99SlowDowns[i]))\n",
    "    # print(\"50% slowdown median: \", np.median(FileSimP50SlowDowns[i]))\n",
    "    # print(\"99% slowdown median: \", np.median(FileSimP99SlowDowns[i]))\n",
    "    print(\"50% slowdown std: \", np.std(FileSimP50SlowDowns[i]))\n",
    "    print(\"99% slowdown std: \", np.std(FileSimP99SlowDowns[i]))\n",
    "    # print(\"50% slowdown max: \", np.max(FileSimP50SlowDowns[i]))\n",
    "    # print(\"99% slowdown max: \", np.max(FileSimP99SlowDowns[i]))\n",
    "    # print(\"50% slowdown min: \", np.min(FileSimP50SlowDowns[i]))\n",
    "    # print(\"99% slowdown min: \", np.min(FileSimP99SlowDowns[i]))\n"
   ]
  },
  {
   "cell_type": "code",
   "execution_count": 49,
   "metadata": {},
   "outputs": [
    {
     "name": "stdout",
     "output_type": "stream",
     "text": [
      "trace/MsgTraces_W5_load-100p_dynamic_new_24h_144.tr trace/MsgTraces_W5_load-100p_0_24hr_7bdp_144node.tr \n",
      "50th percentiles\n",
      "0 : [3.9544809440579445, 4.4627031646346955]\n",
      "1 : [4.16713974802955, 4.622165996601956]\n",
      "2 : [nan, nan]\n",
      "3 : [4.534057550163237, 5.372843521798551]\n",
      "4 : [4.878425677955948, 5.319402426585268]\n",
      "5 : [4.94139180160954, 5.498211330743398]\n",
      "6 : [5.456668440380761, 5.986483257361126]\n",
      "7 : [6.282543501188214, 6.642101629901568]\n",
      "8 : [6.38784148648629, 6.816227002149209]\n",
      "9 : [7.106645426732847, 7.075291747991435]\n",
      "\n",
      "99th percentiles\n",
      "0 : [9.716373158834124, 7.273076374383868]\n",
      "1 : [9.914679012559223, 7.988086761758781]\n",
      "2 : [nan, nan]\n",
      "3 : [9.465083925346159, 8.900280658507143]\n",
      "4 : [9.851563646983891, 9.273012371099387]\n",
      "5 : [10.916215101962832, 9.755700152606893]\n",
      "6 : [11.81826018007066, 12.879942629029822]\n",
      "7 : [14.576891989298483, 13.45699072127933]\n",
      "8 : [14.765234006609965, 14.740685328502009]\n",
      "9 : [17.083498269854996, 14.542474947194734]\n"
     ]
    }
   ],
   "source": [
    "# Perform binned means, 10 bins\n",
    "\n",
    "res = []\n",
    "for _ in range(10):\n",
    "     res.append([])\n",
    "\n",
    "for i, filename in enumerate(filenames):\n",
    "     # Binning means\n",
    "     # print(i, filename)\n",
    "\n",
    "     stats50 = stats.binned_statistic(FileSimMsgSizes[i], FileSimP50SlowDowns[i], bins=10, statistic='mean').statistic\n",
    "     stats99 = stats.binned_statistic(FileSimMsgSizes[i], FileSimP99SlowDowns[i], bins=10, statistic='mean').statistic\n",
    "\n",
    "     for j, val in enumerate(stats50):\n",
    "          res[j].append(val)\n",
    "     for j, val in enumerate(stats99):\n",
    "          res[j].append(val)\n",
    "\n",
    "# Print i, val, val for each bin\n",
    "for filename in filenames:\n",
    "     print(filename, end=\" \")\n",
    "\n",
    "print(\"\\n50th percentiles\")\n",
    "for i, item in enumerate(res):\n",
    "     print(i, \":\", item[0::2])\n",
    "\n",
    "print(\"\\n99th percentiles\")\n",
    "for i, item in enumerate(res):\n",
    "     print(i, \":\", item[1::2])\n",
    "\n"
   ]
  },
  {
   "cell_type": "code",
   "execution_count": 50,
   "metadata": {},
   "outputs": [],
   "source": [
    "# # Plotting\n",
    "\n",
    "# plt.figure(figsize=figsize)\n",
    "# plt.grid()\n",
    "# for i, filename in enumerate(filenames):\n",
    "#     print(\"\\n\", i, filename)\n",
    "#     plot_file(i)\n",
    "# plt.show()\n",
    "\n",
    "# # Smoothed\n",
    "# plt.figure(figsize=figsize)\n",
    "# plt.grid()\n",
    "# for i, filename in enumerate(filenames):\n",
    "#     print(\"\\n\", i, filename)\n",
    "#     plot_file(i, window_size=10, plot_avg=True)\n",
    "# plt.show()"
   ]
  },
  {
   "cell_type": "code",
   "execution_count": null,
   "metadata": {},
   "outputs": [],
   "source": []
  },
  {
   "cell_type": "code",
   "execution_count": 51,
   "metadata": {},
   "outputs": [],
   "source": [
    "# Separate plots"
   ]
  },
  {
   "cell_type": "code",
   "execution_count": 52,
   "metadata": {},
   "outputs": [
    {
     "name": "stdout",
     "output_type": "stream",
     "text": [
      "\n",
      " 0 trace/MsgTraces_W5_load-100p_dynamic_new_24h_144.tr\n"
     ]
    },
    {
     "ename": "TypeError",
     "evalue": "plot_file() missing 1 required positional argument: 'ax'",
     "output_type": "error",
     "traceback": [
      "\u001b[1;31m---------------------------------------------------------------------------\u001b[0m",
      "\u001b[1;31mTypeError\u001b[0m                                 Traceback (most recent call last)",
      "\u001b[1;32mc:\\Users\\mcgin\\Google Drive\\School\\UCSD\\Courses\\Fall 2023\\CSE 291\\Homa-ns3\\analysis\\slowdown_analysis.ipynb Cell 23\u001b[0m line \u001b[0;36m5\n\u001b[0;32m      <a href='vscode-notebook-cell:/c%3A/Users/mcgin/Google%20Drive/School/UCSD/Courses/Fall%202023/CSE%20291/Homa-ns3/analysis/slowdown_analysis.ipynb#X60sZmlsZQ%3D%3D?line=2'>3</a>\u001b[0m \u001b[39mfor\u001b[39;00m i, filename \u001b[39min\u001b[39;00m \u001b[39menumerate\u001b[39m(filenames):\n\u001b[0;32m      <a href='vscode-notebook-cell:/c%3A/Users/mcgin/Google%20Drive/School/UCSD/Courses/Fall%202023/CSE%20291/Homa-ns3/analysis/slowdown_analysis.ipynb#X60sZmlsZQ%3D%3D?line=3'>4</a>\u001b[0m     \u001b[39mprint\u001b[39m(\u001b[39m\"\u001b[39m\u001b[39m\\n\u001b[39;00m\u001b[39m\"\u001b[39m, i, filename)\n\u001b[1;32m----> <a href='vscode-notebook-cell:/c%3A/Users/mcgin/Google%20Drive/School/UCSD/Courses/Fall%202023/CSE%20291/Homa-ns3/analysis/slowdown_analysis.ipynb#X60sZmlsZQ%3D%3D?line=4'>5</a>\u001b[0m     plot_file(i, only50\u001b[39m=\u001b[39;49m\u001b[39mTrue\u001b[39;49;00m)\n\u001b[0;32m      <a href='vscode-notebook-cell:/c%3A/Users/mcgin/Google%20Drive/School/UCSD/Courses/Fall%202023/CSE%20291/Homa-ns3/analysis/slowdown_analysis.ipynb#X60sZmlsZQ%3D%3D?line=5'>6</a>\u001b[0m plt\u001b[39m.\u001b[39mshow()\n\u001b[0;32m      <a href='vscode-notebook-cell:/c%3A/Users/mcgin/Google%20Drive/School/UCSD/Courses/Fall%202023/CSE%20291/Homa-ns3/analysis/slowdown_analysis.ipynb#X60sZmlsZQ%3D%3D?line=7'>8</a>\u001b[0m plt\u001b[39m.\u001b[39mfigure(figsize\u001b[39m=\u001b[39mfigsize)\n",
      "\u001b[1;31mTypeError\u001b[0m: plot_file() missing 1 required positional argument: 'ax'"
     ]
    },
    {
     "data": {
      "image/png": "[encoded data removed]",
      "text/plain": [
       "<Figure size 1000x600 with 1 Axes>"
      ]
     },
     "metadata": {},
     "output_type": "display_data"
    }
   ],
   "source": [
    "plt.figure(figsize=figsize)\n",
    "plt.grid()\n",
    "for i, filename in enumerate(filenames):\n",
    "    print(\"\\n\", i, filename)\n",
    "    plot_file(i, only50=True)\n",
    "plt.show()\n",
    "\n",
    "plt.figure(figsize=figsize)\n",
    "plt.grid()\n",
    "for i, filename in enumerate(filenames):\n",
    "    print(\"\\n\", i, filename)\n",
    "    plot_file(i, only99=True)\n",
    "plt.show()"
   ]
  }
 ],
 "metadata": {
  "kernelspec": {
   "display_name": "Python 3",
   "language": "python",
   "name": "python3"
  },
  "language_info": {
   "codemirror_mode": {
    "name": "ipython",
    "version": 3
   },
   "file_extension": ".py",
   "mimetype": "text/x-python",
   "name": "python",
   "nbconvert_exporter": "python",
   "pygments_lexer": "ipython3",
   "version": "3.10.11"
  }
 },
 "nbformat": 4,
 "nbformat_minor": 2
}
